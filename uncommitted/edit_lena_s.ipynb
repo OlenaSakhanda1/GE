{
 "cells": [
  {
   "cell_type": "markdown",
   "id": "0a2ac9d1",
   "metadata": {},
   "source": [
    "# Edit Your Expectation Suite\n",
    "Use this notebook to recreate and modify your expectation suite:\n",
    "\n",
    "**Expectation Suite Name**: `lena_s`\n"
   ]
  },
  {
   "cell_type": "code",
   "execution_count": 1,
   "id": "06dc3de7",
   "metadata": {},
   "outputs": [
    {
     "name": "stdout",
     "output_type": "stream",
     "text": [
      "2023-04-26T21:49:24+0300 - INFO - Great Expectations logging enabled at 20 level by JupyterUX module.\n",
      "2023-04-26T21:49:24+0300 - INFO - FileDataContext loading fluent config\n",
      "2023-04-26T21:49:25+0300 - INFO - Loading 'datasources' ->\n",
      "[]\n",
      "2023-04-26T21:49:25+0300 - INFO - Loaded 'datasources' ->\n",
      "[]\n",
      "Loaded ExpectationSuite \"lena_s\" containing 25 expectations.\n"
     ]
    },
    {
     "data": {
      "application/vnd.jupyter.widget-view+json": {
       "model_id": "4e855bf9ab3048e885c5a2bef0438d63",
       "version_major": 2,
       "version_minor": 0
      },
      "text/plain": [
       "Calculating Metrics:   0%|          | 0/2 [00:00<?, ?it/s]"
      ]
     },
     "metadata": {},
     "output_type": "display_data"
    },
    {
     "name": "stdout",
     "output_type": "stream",
     "text": [
      "Columns: \"ProductID\", \"Name\", \"ProductNumber\", \"MakeFlag\", \"FinishedGoodsFlag\", \"Color\", \"SafetyStockLevel\", \"ReorderPoint\", \"StandardCost\", \"ListPrice\", \"Size\", \"SizeUnitMeasureCode\", \"WeightUnitMeasureCode\", \"Weight\", \"DaysToManufacture\", \"ProductLine\", \"Class\", \"Style\", \"ProductSubcategoryID\", \"ProductModelID\", \"SellStartDate\", \"SellEndDate\", \"DiscontinuedDate\", \"rowguid\", \"ModifiedDate\".\n"
     ]
    },
    {
     "data": {
      "application/vnd.jupyter.widget-view+json": {
       "model_id": "db7ff174c82a441696e3b2056da7eed3",
       "version_major": 2,
       "version_minor": 0
      },
      "text/plain": [
       "Calculating Metrics:   0%|          | 0/1 [00:00<?, ?it/s]"
      ]
     },
     "metadata": {},
     "output_type": "display_data"
    },
    {
     "data": {
      "text/html": [
       "<div>\n",
       "<style scoped>\n",
       "    .dataframe tbody tr th:only-of-type {\n",
       "        vertical-align: middle;\n",
       "    }\n",
       "\n",
       "    .dataframe tbody tr th {\n",
       "        vertical-align: top;\n",
       "    }\n",
       "\n",
       "    .dataframe thead th {\n",
       "        text-align: right;\n",
       "    }\n",
       "</style>\n",
       "<table border=\"1\" class=\"dataframe\">\n",
       "  <thead>\n",
       "    <tr style=\"text-align: right;\">\n",
       "      <th></th>\n",
       "      <th>ProductID</th>\n",
       "      <th>Name</th>\n",
       "      <th>ProductNumber</th>\n",
       "      <th>MakeFlag</th>\n",
       "      <th>FinishedGoodsFlag</th>\n",
       "      <th>Color</th>\n",
       "      <th>SafetyStockLevel</th>\n",
       "      <th>ReorderPoint</th>\n",
       "      <th>StandardCost</th>\n",
       "      <th>ListPrice</th>\n",
       "      <th>Size</th>\n",
       "      <th>SizeUnitMeasureCode</th>\n",
       "      <th>WeightUnitMeasureCode</th>\n",
       "      <th>Weight</th>\n",
       "      <th>DaysToManufacture</th>\n",
       "      <th>ProductLine</th>\n",
       "      <th>Class</th>\n",
       "      <th>Style</th>\n",
       "      <th>ProductSubcategoryID</th>\n",
       "      <th>ProductModelID</th>\n",
       "      <th>SellStartDate</th>\n",
       "      <th>SellEndDate</th>\n",
       "      <th>DiscontinuedDate</th>\n",
       "      <th>rowguid</th>\n",
       "      <th>ModifiedDate</th>\n",
       "    </tr>\n",
       "  </thead>\n",
       "  <tbody>\n",
       "    <tr>\n",
       "      <th>0</th>\n",
       "      <td>1</td>\n",
       "      <td>Adjustable Race</td>\n",
       "      <td>AR-5381</td>\n",
       "      <td>False</td>\n",
       "      <td>False</td>\n",
       "      <td>None</td>\n",
       "      <td>3</td>\n",
       "      <td>750</td>\n",
       "      <td>0.0</td>\n",
       "      <td>0.0</td>\n",
       "      <td>None</td>\n",
       "      <td>None</td>\n",
       "      <td>None</td>\n",
       "      <td>None</td>\n",
       "      <td>0</td>\n",
       "      <td>None</td>\n",
       "      <td>None</td>\n",
       "      <td>None</td>\n",
       "      <td>None</td>\n",
       "      <td>None</td>\n",
       "      <td>2008-04-30</td>\n",
       "      <td>None</td>\n",
       "      <td>None</td>\n",
       "      <td>694215B7-08F7-4C0D-ACB1-D734BA44C0C8</td>\n",
       "      <td>2014-02-08 10:01:36.827000</td>\n",
       "    </tr>\n",
       "    <tr>\n",
       "      <th>1</th>\n",
       "      <td>2</td>\n",
       "      <td>Bearing Ball</td>\n",
       "      <td>BA-8327</td>\n",
       "      <td>False</td>\n",
       "      <td>False</td>\n",
       "      <td>None</td>\n",
       "      <td>1000</td>\n",
       "      <td>750</td>\n",
       "      <td>0.0</td>\n",
       "      <td>0.0</td>\n",
       "      <td>None</td>\n",
       "      <td>None</td>\n",
       "      <td>None</td>\n",
       "      <td>None</td>\n",
       "      <td>0</td>\n",
       "      <td>None</td>\n",
       "      <td>None</td>\n",
       "      <td>None</td>\n",
       "      <td>None</td>\n",
       "      <td>None</td>\n",
       "      <td>2008-04-30</td>\n",
       "      <td>None</td>\n",
       "      <td>None</td>\n",
       "      <td>58AE3C20-4F3A-4749-A7D4-D568806CC537</td>\n",
       "      <td>2014-02-08 10:01:36.827000</td>\n",
       "    </tr>\n",
       "    <tr>\n",
       "      <th>2</th>\n",
       "      <td>3</td>\n",
       "      <td>BB Ball Bearing</td>\n",
       "      <td>BE-2349</td>\n",
       "      <td>True</td>\n",
       "      <td>False</td>\n",
       "      <td>None</td>\n",
       "      <td>800</td>\n",
       "      <td>600</td>\n",
       "      <td>0.0</td>\n",
       "      <td>0.0</td>\n",
       "      <td>None</td>\n",
       "      <td>None</td>\n",
       "      <td>None</td>\n",
       "      <td>None</td>\n",
       "      <td>1</td>\n",
       "      <td>None</td>\n",
       "      <td>None</td>\n",
       "      <td>None</td>\n",
       "      <td>None</td>\n",
       "      <td>None</td>\n",
       "      <td>2008-04-30</td>\n",
       "      <td>None</td>\n",
       "      <td>None</td>\n",
       "      <td>9C21AED2-5BFA-4F18-BCB8-F11638DC2E4E</td>\n",
       "      <td>9544-02-08 10:01:36.827000</td>\n",
       "    </tr>\n",
       "    <tr>\n",
       "      <th>3</th>\n",
       "      <td>4</td>\n",
       "      <td>Headset Ball Bearings</td>\n",
       "      <td>BE-2908</td>\n",
       "      <td>False</td>\n",
       "      <td>False</td>\n",
       "      <td>None</td>\n",
       "      <td>800</td>\n",
       "      <td>600</td>\n",
       "      <td>0.0</td>\n",
       "      <td>0.0</td>\n",
       "      <td>None</td>\n",
       "      <td>None</td>\n",
       "      <td>None</td>\n",
       "      <td>None</td>\n",
       "      <td>0</td>\n",
       "      <td>None</td>\n",
       "      <td>None</td>\n",
       "      <td>None</td>\n",
       "      <td>None</td>\n",
       "      <td>None</td>\n",
       "      <td>2008-04-30</td>\n",
       "      <td>None</td>\n",
       "      <td>None</td>\n",
       "      <td>ECFED6CB-51FF-49B5-B06C-7D8AC834DB8B</td>\n",
       "      <td>2014-02-08 10:01:36.827000</td>\n",
       "    </tr>\n",
       "    <tr>\n",
       "      <th>4</th>\n",
       "      <td>316</td>\n",
       "      <td>Blade</td>\n",
       "      <td>BL-2036</td>\n",
       "      <td>True</td>\n",
       "      <td>False</td>\n",
       "      <td>None</td>\n",
       "      <td>800</td>\n",
       "      <td>600</td>\n",
       "      <td>0.0</td>\n",
       "      <td>0.0</td>\n",
       "      <td>None</td>\n",
       "      <td>None</td>\n",
       "      <td>None</td>\n",
       "      <td>None</td>\n",
       "      <td>1</td>\n",
       "      <td>None</td>\n",
       "      <td>None</td>\n",
       "      <td>None</td>\n",
       "      <td>None</td>\n",
       "      <td>None</td>\n",
       "      <td>2008-04-30</td>\n",
       "      <td>None</td>\n",
       "      <td>None</td>\n",
       "      <td>E73E9750-603B-4131-89F5-3DD15ED5FF80</td>\n",
       "      <td>2014-02-08 10:01:36.827000</td>\n",
       "    </tr>\n",
       "  </tbody>\n",
       "</table>\n",
       "</div>"
      ],
      "text/plain": [
       "   ProductID                   Name ProductNumber  MakeFlag  \\\n",
       "0          1        Adjustable Race       AR-5381     False   \n",
       "1          2           Bearing Ball       BA-8327     False   \n",
       "2          3        BB Ball Bearing       BE-2349      True   \n",
       "3          4  Headset Ball Bearings       BE-2908     False   \n",
       "4        316                  Blade       BL-2036      True   \n",
       "\n",
       "   FinishedGoodsFlag Color  SafetyStockLevel  ReorderPoint  StandardCost  \\\n",
       "0              False  None                 3           750           0.0   \n",
       "1              False  None              1000           750           0.0   \n",
       "2              False  None               800           600           0.0   \n",
       "3              False  None               800           600           0.0   \n",
       "4              False  None               800           600           0.0   \n",
       "\n",
       "   ListPrice  Size SizeUnitMeasureCode WeightUnitMeasureCode Weight  \\\n",
       "0        0.0  None                None                  None   None   \n",
       "1        0.0  None                None                  None   None   \n",
       "2        0.0  None                None                  None   None   \n",
       "3        0.0  None                None                  None   None   \n",
       "4        0.0  None                None                  None   None   \n",
       "\n",
       "   DaysToManufacture ProductLine Class Style ProductSubcategoryID  \\\n",
       "0                  0        None  None  None                 None   \n",
       "1                  0        None  None  None                 None   \n",
       "2                  1        None  None  None                 None   \n",
       "3                  0        None  None  None                 None   \n",
       "4                  1        None  None  None                 None   \n",
       "\n",
       "  ProductModelID SellStartDate SellEndDate DiscontinuedDate  \\\n",
       "0           None    2008-04-30        None             None   \n",
       "1           None    2008-04-30        None             None   \n",
       "2           None    2008-04-30        None             None   \n",
       "3           None    2008-04-30        None             None   \n",
       "4           None    2008-04-30        None             None   \n",
       "\n",
       "                                rowguid                ModifiedDate  \n",
       "0  694215B7-08F7-4C0D-ACB1-D734BA44C0C8  2014-02-08 10:01:36.827000  \n",
       "1  58AE3C20-4F3A-4749-A7D4-D568806CC537  2014-02-08 10:01:36.827000  \n",
       "2  9C21AED2-5BFA-4F18-BCB8-F11638DC2E4E  9544-02-08 10:01:36.827000  \n",
       "3  ECFED6CB-51FF-49B5-B06C-7D8AC834DB8B  2014-02-08 10:01:36.827000  \n",
       "4  E73E9750-603B-4131-89F5-3DD15ED5FF80  2014-02-08 10:01:36.827000  "
      ]
     },
     "execution_count": 1,
     "metadata": {},
     "output_type": "execute_result"
    }
   ],
   "source": [
    "import datetime\n",
    "\n",
    "import pandas as pd\n",
    "\n",
    "import great_expectations as gx\n",
    "import great_expectations.jupyter_ux\n",
    "from great_expectations.core.batch import BatchRequest\n",
    "from great_expectations.checkpoint import SimpleCheckpoint\n",
    "from great_expectations.exceptions import DataContextError\n",
    "\n",
    "context = gx.get_context()\n",
    "\n",
    "# Note that if you modify this batch request, you may save the new version as a .json file\n",
    "#  to pass in later via the --batch-request option\n",
    "batch_request = {'datasource_name': 'hello_datasource', 'data_connector_name': 'default_inferred_data_connector_name', 'data_asset_name': 'Product', 'limit': 1000}\n",
    "\n",
    "\n",
    "# Feel free to change the name of your suite here. Renaming this will not remove the other one.\n",
    "expectation_suite_name = \"lena_s\"\n",
    "try:\n",
    "    suite = context.get_expectation_suite(expectation_suite_name=expectation_suite_name)\n",
    "    print(f'Loaded ExpectationSuite \"{suite.expectation_suite_name}\" containing {len(suite.expectations)} expectations.')\n",
    "except DataContextError:\n",
    "    suite = context.add_expectation_suite(expectation_suite_name=expectation_suite_name)\n",
    "    print(f'Created ExpectationSuite \"{suite.expectation_suite_name}\".')\n",
    "\n",
    "\n",
    "validator = context.get_validator(\n",
    "    batch_request=BatchRequest(**batch_request),\n",
    "    expectation_suite_name=expectation_suite_name\n",
    ")\n",
    "column_names = [f'\"{column_name}\"' for column_name in validator.columns()]\n",
    "print(f\"Columns: {', '.join(column_names)}.\")\n",
    "validator.head(n_rows=5, fetch_all=False)"
   ]
  },
  {
   "cell_type": "markdown",
   "id": "81d9dde0",
   "metadata": {},
   "source": [
    "## Create & Edit Expectations\n",
    "\n",
    "\n",
    "Add expectations by calling specific expectation methods on the `validator` object. They all begin with `.expect_` which makes autocompleting easy using tab.\n",
    "\n",
    "Because you selected interactive mode, you are now creating or editing an Expectation Suite with validator feedback from the sample batch of data that you specified (see `batch_request`).\n",
    "\n",
    "Note that if you select manual mode you may still create or edit an Expectation Suite directly, without feedback from the `validator`. See our documentation for more info and examples: [How to create a new Expectation Suite without a sample batch](https://docs.greatexpectations.io/docs/guides/expectations/how_to_create_and_edit_expectations_based_on_domain_knowledge_without_inspecting_data_directly).\n",
    "\n",
    "\n",
    "\n",
    "You can see all the available expectations in the **[expectation gallery](https://greatexpectations.io/expectations)**."
   ]
  },
  {
   "cell_type": "markdown",
   "id": "8699e2b8",
   "metadata": {},
   "source": [
    "### Table Expectation(s)"
   ]
  },
  {
   "cell_type": "code",
   "execution_count": 2,
   "id": "1337d8e5",
   "metadata": {},
   "outputs": [
    {
     "data": {
      "application/vnd.jupyter.widget-view+json": {
       "model_id": "ecc25367b2c3480d937ae071b8fd0d71",
       "version_major": 2,
       "version_minor": 0
      },
      "text/plain": [
       "Calculating Metrics:   0%|          | 0/2 [00:00<?, ?it/s]"
      ]
     },
     "metadata": {},
     "output_type": "display_data"
    },
    {
     "data": {
      "text/plain": [
       "{\n",
       "  \"success\": true,\n",
       "  \"meta\": {},\n",
       "  \"result\": {\n",
       "    \"observed_value\": 504\n",
       "  },\n",
       "  \"exception_info\": {\n",
       "    \"raised_exception\": false,\n",
       "    \"exception_traceback\": null,\n",
       "    \"exception_message\": null\n",
       "  }\n",
       "}"
      ]
     },
     "execution_count": 2,
     "metadata": {},
     "output_type": "execute_result"
    }
   ],
   "source": [
    "\n",
    "validator.expect_table_row_count_to_be_between(max_value=504, min_value=504)"
   ]
  },
  {
   "cell_type": "code",
   "execution_count": 3,
   "id": "178e6c5f",
   "metadata": {},
   "outputs": [
    {
     "data": {
      "application/vnd.jupyter.widget-view+json": {
       "model_id": "a4093ec2115543889464e15d20528043",
       "version_major": 2,
       "version_minor": 0
      },
      "text/plain": [
       "Calculating Metrics:   0%|          | 0/2 [00:00<?, ?it/s]"
      ]
     },
     "metadata": {},
     "output_type": "display_data"
    },
    {
     "data": {
      "text/plain": [
       "{\n",
       "  \"success\": false,\n",
       "  \"meta\": {},\n",
       "  \"result\": {\n",
       "    \"observed_value\": [\n",
       "      \"Class\",\n",
       "      \"Color\",\n",
       "      \"DaysToManufacture\",\n",
       "      \"DiscontinuedDate\",\n",
       "      \"FinishedGoodsFlag\",\n",
       "      \"ListPrice\",\n",
       "      \"MakeFlag\",\n",
       "      \"ModifiedDate\",\n",
       "      \"Name\",\n",
       "      \"ProductID\",\n",
       "      \"ProductLine\",\n",
       "      \"ProductModelID\",\n",
       "      \"ProductNumber\",\n",
       "      \"ProductSubcategoryID\",\n",
       "      \"ReorderPoint\",\n",
       "      \"SafetyStockLevel\",\n",
       "      \"SellEndDate\",\n",
       "      \"SellStartDate\",\n",
       "      \"Size\",\n",
       "      \"SizeUnitMeasureCode\",\n",
       "      \"StandardCost\",\n",
       "      \"Style\",\n",
       "      \"Weight\",\n",
       "      \"WeightUnitMeasureCode\",\n",
       "      \"rowguid\"\n",
       "    ],\n",
       "    \"details\": {\n",
       "      \"mismatched\": {\n",
       "        \"unexpected\": [\n",
       "          \"Class\",\n",
       "          \"DaysToManufacture\",\n",
       "          \"DiscontinuedDate\",\n",
       "          \"FinishedGoodsFlag\",\n",
       "          \"ListPrice\",\n",
       "          \"MakeFlag\",\n",
       "          \"Name\",\n",
       "          \"ProductLine\",\n",
       "          \"ProductModelID\",\n",
       "          \"ProductNumber\",\n",
       "          \"ProductSubcategoryID\",\n",
       "          \"ReorderPoint\",\n",
       "          \"SafetyStockLevel\",\n",
       "          \"SellEndDate\",\n",
       "          \"SellStartDate\",\n",
       "          \"Size\",\n",
       "          \"SizeUnitMeasureCode\",\n",
       "          \"StandardCost\",\n",
       "          \"Style\",\n",
       "          \"Weight\",\n",
       "          \"WeightUnitMeasureCode\",\n",
       "          \"rowguid\"\n",
       "        ]\n",
       "      }\n",
       "    }\n",
       "  },\n",
       "  \"exception_info\": {\n",
       "    \"raised_exception\": false,\n",
       "    \"exception_traceback\": null,\n",
       "    \"exception_message\": null\n",
       "  }\n",
       "}"
      ]
     },
     "execution_count": 3,
     "metadata": {},
     "output_type": "execute_result"
    }
   ],
   "source": [
    "\n",
    "validator.expect_table_columns_to_match_set(column_set=['Color', 'ModifiedDate', 'ProductID'])"
   ]
  },
  {
   "cell_type": "markdown",
   "id": "89c3cb5a",
   "metadata": {},
   "source": [
    "### Column Expectation(s)"
   ]
  },
  {
   "cell_type": "markdown",
   "id": "dbb57cb0",
   "metadata": {},
   "source": [
    "#### `ProductID`"
   ]
  },
  {
   "cell_type": "code",
   "execution_count": 4,
   "id": "429401c6",
   "metadata": {},
   "outputs": [
    {
     "data": {
      "application/vnd.jupyter.widget-view+json": {
       "model_id": "ff9fcb38bff44d75bab500da33812914",
       "version_major": 2,
       "version_minor": 0
      },
      "text/plain": [
       "Calculating Metrics:   0%|          | 0/10 [00:00<?, ?it/s]"
      ]
     },
     "metadata": {},
     "output_type": "display_data"
    },
    {
     "data": {
      "text/plain": [
       "{\n",
       "  \"success\": true,\n",
       "  \"meta\": {},\n",
       "  \"result\": {\n",
       "    \"element_count\": 504,\n",
       "    \"unexpected_count\": 0,\n",
       "    \"unexpected_percent\": 0.0,\n",
       "    \"partial_unexpected_list\": [],\n",
       "    \"missing_count\": 0,\n",
       "    \"missing_percent\": 0.0,\n",
       "    \"unexpected_percent_total\": 0.0,\n",
       "    \"unexpected_percent_nonmissing\": 0.0\n",
       "  },\n",
       "  \"exception_info\": {\n",
       "    \"raised_exception\": false,\n",
       "    \"exception_traceback\": null,\n",
       "    \"exception_message\": null\n",
       "  }\n",
       "}"
      ]
     },
     "execution_count": 4,
     "metadata": {},
     "output_type": "execute_result"
    }
   ],
   "source": [
    "\n",
    "validator.expect_column_values_to_be_unique(column='ProductID', meta={'profiler_details': {'metric_configuration': {'domain_kwargs': {'column': 'ProductID'}, 'metric_name': 'column_values.unique.unexpected_count', 'metric_value_kwargs': None}, 'num_batches': 1}})"
   ]
  },
  {
   "cell_type": "code",
   "execution_count": 5,
   "id": "08d0d168",
   "metadata": {},
   "outputs": [
    {
     "data": {
      "application/vnd.jupyter.widget-view+json": {
       "model_id": "ab9db4bce74342c09dcb9f0bd587c0c2",
       "version_major": 2,
       "version_minor": 0
      },
      "text/plain": [
       "Calculating Metrics:   0%|          | 0/8 [00:00<?, ?it/s]"
      ]
     },
     "metadata": {},
     "output_type": "display_data"
    },
    {
     "data": {
      "text/plain": [
       "{\n",
       "  \"success\": true,\n",
       "  \"meta\": {},\n",
       "  \"result\": {\n",
       "    \"element_count\": 504,\n",
       "    \"unexpected_count\": 0,\n",
       "    \"unexpected_percent\": 0.0,\n",
       "    \"partial_unexpected_list\": []\n",
       "  },\n",
       "  \"exception_info\": {\n",
       "    \"raised_exception\": false,\n",
       "    \"exception_traceback\": null,\n",
       "    \"exception_message\": null\n",
       "  }\n",
       "}"
      ]
     },
     "execution_count": 5,
     "metadata": {},
     "output_type": "execute_result"
    }
   ],
   "source": [
    "\n",
    "validator.expect_column_values_to_not_be_null(column='ProductID', meta={'profiler_details': {'metric_configuration': {'domain_kwargs': {'column': 'ProductID'}, 'metric_name': 'column_values.nonnull.unexpected_count', 'metric_value_kwargs': None}, 'num_batches': 1}})"
   ]
  },
  {
   "cell_type": "code",
   "execution_count": 6,
   "id": "d22a57a6",
   "metadata": {},
   "outputs": [
    {
     "data": {
      "application/vnd.jupyter.widget-view+json": {
       "model_id": "f7e0c85422a746b58bea6a0af21ae0f5",
       "version_major": 2,
       "version_minor": 0
      },
      "text/plain": [
       "Calculating Metrics:   0%|          | 0/6 [00:00<?, ?it/s]"
      ]
     },
     "metadata": {},
     "output_type": "display_data"
    },
    {
     "data": {
      "text/plain": [
       "{\n",
       "  \"success\": true,\n",
       "  \"meta\": {},\n",
       "  \"result\": {\n",
       "    \"observed_value\": 1\n",
       "  },\n",
       "  \"exception_info\": {\n",
       "    \"raised_exception\": false,\n",
       "    \"exception_traceback\": null,\n",
       "    \"exception_message\": null\n",
       "  }\n",
       "}"
      ]
     },
     "execution_count": 6,
     "metadata": {},
     "output_type": "execute_result"
    }
   ],
   "source": [
    "\n",
    "validator.expect_column_min_to_be_between(column='ProductID', max_value=1, min_value=1, strict_max=False, strict_min=False, meta={'profiler_details': {'metric_configuration': {'domain_kwargs': {'column': 'ProductID'}, 'metric_name': 'column.min', 'metric_value_kwargs': None}, 'num_batches': 1}})"
   ]
  },
  {
   "cell_type": "code",
   "execution_count": 7,
   "id": "d3400ae3",
   "metadata": {},
   "outputs": [
    {
     "data": {
      "application/vnd.jupyter.widget-view+json": {
       "model_id": "52b9c885ff27442dbfa0d19146336b6f",
       "version_major": 2,
       "version_minor": 0
      },
      "text/plain": [
       "Calculating Metrics:   0%|          | 0/6 [00:00<?, ?it/s]"
      ]
     },
     "metadata": {},
     "output_type": "display_data"
    },
    {
     "data": {
      "text/plain": [
       "{\n",
       "  \"success\": true,\n",
       "  \"meta\": {},\n",
       "  \"result\": {\n",
       "    \"observed_value\": 999\n",
       "  },\n",
       "  \"exception_info\": {\n",
       "    \"raised_exception\": false,\n",
       "    \"exception_traceback\": null,\n",
       "    \"exception_message\": null\n",
       "  }\n",
       "}"
      ]
     },
     "execution_count": 7,
     "metadata": {},
     "output_type": "execute_result"
    }
   ],
   "source": [
    "\n",
    "validator.expect_column_max_to_be_between(column='ProductID', max_value=999, min_value=999, strict_max=False, strict_min=False, meta={'profiler_details': {'metric_configuration': {'domain_kwargs': {'column': 'ProductID'}, 'metric_name': 'column.max', 'metric_value_kwargs': None}, 'num_batches': 1}})"
   ]
  },
  {
   "cell_type": "code",
   "execution_count": 8,
   "id": "a1fd731a",
   "metadata": {},
   "outputs": [
    {
     "data": {
      "application/vnd.jupyter.widget-view+json": {
       "model_id": "6212ed9d345a4ef1bc2797646abfcb06",
       "version_major": 2,
       "version_minor": 0
      },
      "text/plain": [
       "Calculating Metrics:   0%|          | 0/11 [00:00<?, ?it/s]"
      ]
     },
     "metadata": {},
     "output_type": "display_data"
    },
    {
     "data": {
      "text/plain": [
       "{\n",
       "  \"success\": true,\n",
       "  \"meta\": {},\n",
       "  \"result\": {\n",
       "    \"element_count\": 504,\n",
       "    \"unexpected_count\": 0,\n",
       "    \"unexpected_percent\": 0.0,\n",
       "    \"partial_unexpected_list\": [],\n",
       "    \"missing_count\": 0,\n",
       "    \"missing_percent\": 0.0,\n",
       "    \"unexpected_percent_total\": 0.0,\n",
       "    \"unexpected_percent_nonmissing\": 0.0\n",
       "  },\n",
       "  \"exception_info\": {\n",
       "    \"raised_exception\": false,\n",
       "    \"exception_traceback\": null,\n",
       "    \"exception_message\": null\n",
       "  }\n",
       "}"
      ]
     },
     "execution_count": 8,
     "metadata": {},
     "output_type": "execute_result"
    }
   ],
   "source": [
    "\n",
    "validator.expect_column_values_to_be_between(column='ProductID', max_value=999, min_value=1, mostly=1.0, strict_max=False, strict_min=False, meta={'profiler_details': {'column_max_values_range_estimator': {'metric_configuration': {'domain_kwargs': {'column': 'ProductID'}, 'metric_name': 'column.max', 'metric_value_kwargs': None}, 'num_batches': 1}, 'column_min_values_range_estimator': {'metric_configuration': {'domain_kwargs': {'column': 'ProductID'}, 'metric_name': 'column.min', 'metric_value_kwargs': None}, 'num_batches': 1}}})"
   ]
  },
  {
   "cell_type": "code",
   "execution_count": 9,
   "id": "73c9140b",
   "metadata": {},
   "outputs": [
    {
     "data": {
      "application/vnd.jupyter.widget-view+json": {
       "model_id": "86c2f07526c6451c993739b6bd080fd4",
       "version_major": 2,
       "version_minor": 0
      },
      "text/plain": [
       "Calculating Metrics:   0%|          | 0/5 [00:00<?, ?it/s]"
      ]
     },
     "metadata": {},
     "output_type": "display_data"
    },
    {
     "data": {
      "text/plain": [
       "{\n",
       "  \"success\": true,\n",
       "  \"meta\": {},\n",
       "  \"result\": {\n",
       "    \"observed_value\": {\n",
       "      \"quantiles\": [\n",
       "        0.25,\n",
       "        0.5,\n",
       "        0.75\n",
       "      ],\n",
       "      \"values\": [\n",
       "        447,\n",
       "        747,\n",
       "        873\n",
       "      ]\n",
       "    },\n",
       "    \"details\": {\n",
       "      \"success_details\": [\n",
       "        true,\n",
       "        true,\n",
       "        true\n",
       "      ]\n",
       "    }\n",
       "  },\n",
       "  \"exception_info\": {\n",
       "    \"raised_exception\": false,\n",
       "    \"exception_traceback\": null,\n",
       "    \"exception_message\": null\n",
       "  }\n",
       "}"
      ]
     },
     "execution_count": 9,
     "metadata": {},
     "output_type": "execute_result"
    }
   ],
   "source": [
    "\n",
    "validator.expect_column_quantile_values_to_be_between(column='ProductID', allow_relative_error=False, quantile_ranges={'quantiles': [0.25, 0.5, 0.75], 'value_ranges': [[447, 447], [747, 747], [873, 873]]}, meta={'profiler_details': {'metric_configuration': {'domain_kwargs': {'column': 'ProductID'}, 'metric_name': 'column.quantile_values', 'metric_value_kwargs': {'allow_relative_error': False, 'quantiles': [0.25, 0.5, 0.75]}}, 'num_batches': 1}})"
   ]
  },
  {
   "cell_type": "code",
   "execution_count": 10,
   "id": "294cdd23",
   "metadata": {},
   "outputs": [
    {
     "data": {
      "application/vnd.jupyter.widget-view+json": {
       "model_id": "7c39ed364bfe4d2fa180420139f3ac60",
       "version_major": 2,
       "version_minor": 0
      },
      "text/plain": [
       "Calculating Metrics:   0%|          | 0/9 [00:00<?, ?it/s]"
      ]
     },
     "metadata": {},
     "output_type": "display_data"
    },
    {
     "data": {
      "text/plain": [
       "{\n",
       "  \"success\": true,\n",
       "  \"meta\": {},\n",
       "  \"result\": {\n",
       "    \"observed_value\": 747.5\n",
       "  },\n",
       "  \"exception_info\": {\n",
       "    \"raised_exception\": false,\n",
       "    \"exception_traceback\": null,\n",
       "    \"exception_message\": null\n",
       "  }\n",
       "}"
      ]
     },
     "execution_count": 10,
     "metadata": {},
     "output_type": "execute_result"
    }
   ],
   "source": [
    "\n",
    "validator.expect_column_median_to_be_between(column='ProductID', max_value=747.5, min_value=747.5, strict_max=False, strict_min=False, meta={'profiler_details': {'metric_configuration': {'domain_kwargs': {'column': 'ProductID'}, 'metric_name': 'column.median', 'metric_value_kwargs': None}, 'num_batches': 1}})"
   ]
  },
  {
   "cell_type": "code",
   "execution_count": 11,
   "id": "727464ab",
   "metadata": {},
   "outputs": [
    {
     "data": {
      "application/vnd.jupyter.widget-view+json": {
       "model_id": "9c0fbc727d9947fdaed342b18926533a",
       "version_major": 2,
       "version_minor": 0
      },
      "text/plain": [
       "Calculating Metrics:   0%|          | 0/6 [00:00<?, ?it/s]"
      ]
     },
     "metadata": {},
     "output_type": "display_data"
    },
    {
     "data": {
      "text/plain": [
       "{\n",
       "  \"success\": true,\n",
       "  \"meta\": {},\n",
       "  \"result\": {\n",
       "    \"observed_value\": 673.0396825396825\n",
       "  },\n",
       "  \"exception_info\": {\n",
       "    \"raised_exception\": false,\n",
       "    \"exception_traceback\": null,\n",
       "    \"exception_message\": null\n",
       "  }\n",
       "}"
      ]
     },
     "execution_count": 11,
     "metadata": {},
     "output_type": "execute_result"
    }
   ],
   "source": [
    "\n",
    "validator.expect_column_mean_to_be_between(column='ProductID', max_value=673.0396825396825, min_value=673.0396825396825, strict_max=False, strict_min=False, meta={'profiler_details': {'metric_configuration': {'domain_kwargs': {'column': 'ProductID'}, 'metric_name': 'column.mean', 'metric_value_kwargs': None}, 'num_batches': 1}})"
   ]
  },
  {
   "cell_type": "code",
   "execution_count": 12,
   "id": "57e46c66",
   "metadata": {},
   "outputs": [
    {
     "data": {
      "application/vnd.jupyter.widget-view+json": {
       "model_id": "cacf9858170f475686e014a8fbfbaab2",
       "version_major": 2,
       "version_minor": 0
      },
      "text/plain": [
       "Calculating Metrics:   0%|          | 0/11 [00:00<?, ?it/s]"
      ]
     },
     "metadata": {},
     "output_type": "display_data"
    },
    {
     "data": {
      "text/plain": [
       "{\n",
       "  \"success\": true,\n",
       "  \"meta\": {},\n",
       "  \"result\": {\n",
       "    \"observed_value\": 229.37314180957807\n",
       "  },\n",
       "  \"exception_info\": {\n",
       "    \"raised_exception\": false,\n",
       "    \"exception_traceback\": null,\n",
       "    \"exception_message\": null\n",
       "  }\n",
       "}"
      ]
     },
     "execution_count": 12,
     "metadata": {},
     "output_type": "execute_result"
    }
   ],
   "source": [
    "\n",
    "validator.expect_column_stdev_to_be_between(column='ProductID', max_value=229.37314180957807, min_value=229.37314180957807, strict_max=False, strict_min=False, meta={'profiler_details': {'metric_configuration': {'domain_kwargs': {'column': 'ProductID'}, 'metric_name': 'column.standard_deviation', 'metric_value_kwargs': None}, 'num_batches': 1}})"
   ]
  },
  {
   "cell_type": "markdown",
   "id": "c0141f21",
   "metadata": {},
   "source": [
    "#### `SafetyStockLevel`"
   ]
  },
  {
   "cell_type": "code",
   "execution_count": 13,
   "id": "fc0c4297",
   "metadata": {},
   "outputs": [
    {
     "data": {
      "application/vnd.jupyter.widget-view+json": {
       "model_id": "3adc6a615ec64ec5893152c4056a9668",
       "version_major": 2,
       "version_minor": 0
      },
      "text/plain": [
       "Calculating Metrics:   0%|          | 0/8 [00:00<?, ?it/s]"
      ]
     },
     "metadata": {},
     "output_type": "display_data"
    },
    {
     "data": {
      "text/plain": [
       "{\n",
       "  \"success\": true,\n",
       "  \"meta\": {},\n",
       "  \"result\": {\n",
       "    \"element_count\": 504,\n",
       "    \"unexpected_count\": 0,\n",
       "    \"unexpected_percent\": 0.0,\n",
       "    \"partial_unexpected_list\": []\n",
       "  },\n",
       "  \"exception_info\": {\n",
       "    \"raised_exception\": false,\n",
       "    \"exception_traceback\": null,\n",
       "    \"exception_message\": null\n",
       "  }\n",
       "}"
      ]
     },
     "execution_count": 13,
     "metadata": {},
     "output_type": "execute_result"
    }
   ],
   "source": [
    "\n",
    "validator.expect_column_values_to_not_be_null(column='SafetyStockLevel', meta={'profiler_details': {'metric_configuration': {'domain_kwargs': {'column': 'SafetyStockLevel'}, 'metric_name': 'column_values.nonnull.unexpected_count', 'metric_value_kwargs': None}, 'num_batches': 1}})"
   ]
  },
  {
   "cell_type": "code",
   "execution_count": 14,
   "id": "88f11c1a",
   "metadata": {},
   "outputs": [
    {
     "data": {
      "application/vnd.jupyter.widget-view+json": {
       "model_id": "8cf845154ec44b5c9e04c9699eb38fd4",
       "version_major": 2,
       "version_minor": 0
      },
      "text/plain": [
       "Calculating Metrics:   0%|          | 0/6 [00:00<?, ?it/s]"
      ]
     },
     "metadata": {},
     "output_type": "display_data"
    },
    {
     "data": {
      "text/plain": [
       "{\n",
       "  \"success\": false,\n",
       "  \"meta\": {},\n",
       "  \"result\": {\n",
       "    \"observed_value\": 3\n",
       "  },\n",
       "  \"exception_info\": {\n",
       "    \"raised_exception\": false,\n",
       "    \"exception_traceback\": null,\n",
       "    \"exception_message\": null\n",
       "  }\n",
       "}"
      ]
     },
     "execution_count": 14,
     "metadata": {},
     "output_type": "execute_result"
    }
   ],
   "source": [
    "\n",
    "validator.expect_column_min_to_be_between(column='SafetyStockLevel', max_value=2, min_value=2, strict_max=False, strict_min=False, meta={'profiler_details': {'metric_configuration': {'domain_kwargs': {'column': 'SafetyStockLevel'}, 'metric_name': 'column.min', 'metric_value_kwargs': None}, 'num_batches': 1}})"
   ]
  },
  {
   "cell_type": "code",
   "execution_count": 15,
   "id": "613c2d55",
   "metadata": {},
   "outputs": [
    {
     "data": {
      "application/vnd.jupyter.widget-view+json": {
       "model_id": "10ca6d14092b43c398da7a390c0eacbc",
       "version_major": 2,
       "version_minor": 0
      },
      "text/plain": [
       "Calculating Metrics:   0%|          | 0/6 [00:00<?, ?it/s]"
      ]
     },
     "metadata": {},
     "output_type": "display_data"
    },
    {
     "data": {
      "text/plain": [
       "{\n",
       "  \"success\": true,\n",
       "  \"meta\": {},\n",
       "  \"result\": {\n",
       "    \"observed_value\": 1000\n",
       "  },\n",
       "  \"exception_info\": {\n",
       "    \"raised_exception\": false,\n",
       "    \"exception_traceback\": null,\n",
       "    \"exception_message\": null\n",
       "  }\n",
       "}"
      ]
     },
     "execution_count": 15,
     "metadata": {},
     "output_type": "execute_result"
    }
   ],
   "source": [
    "\n",
    "validator.expect_column_max_to_be_between(column='SafetyStockLevel', max_value=1000, min_value=1000, strict_max=False, strict_min=False, meta={'profiler_details': {'metric_configuration': {'domain_kwargs': {'column': 'SafetyStockLevel'}, 'metric_name': 'column.max', 'metric_value_kwargs': None}, 'num_batches': 1}})"
   ]
  },
  {
   "cell_type": "code",
   "execution_count": 16,
   "id": "574ca14a",
   "metadata": {},
   "outputs": [
    {
     "data": {
      "application/vnd.jupyter.widget-view+json": {
       "model_id": "6dd87c1e26b64b42900d259791534c9b",
       "version_major": 2,
       "version_minor": 0
      },
      "text/plain": [
       "Calculating Metrics:   0%|          | 0/11 [00:00<?, ?it/s]"
      ]
     },
     "metadata": {},
     "output_type": "display_data"
    },
    {
     "data": {
      "text/plain": [
       "{\n",
       "  \"success\": true,\n",
       "  \"meta\": {},\n",
       "  \"result\": {\n",
       "    \"element_count\": 504,\n",
       "    \"unexpected_count\": 0,\n",
       "    \"unexpected_percent\": 0.0,\n",
       "    \"partial_unexpected_list\": [],\n",
       "    \"missing_count\": 0,\n",
       "    \"missing_percent\": 0.0,\n",
       "    \"unexpected_percent_total\": 0.0,\n",
       "    \"unexpected_percent_nonmissing\": 0.0\n",
       "  },\n",
       "  \"exception_info\": {\n",
       "    \"raised_exception\": false,\n",
       "    \"exception_traceback\": null,\n",
       "    \"exception_message\": null\n",
       "  }\n",
       "}"
      ]
     },
     "execution_count": 16,
     "metadata": {},
     "output_type": "execute_result"
    }
   ],
   "source": [
    "\n",
    "validator.expect_column_values_to_be_between(column='SafetyStockLevel', max_value=1000, min_value=2, mostly=1.0, strict_max=False, strict_min=False, meta={'profiler_details': {'column_max_values_range_estimator': {'metric_configuration': {'domain_kwargs': {'column': 'SafetyStockLevel'}, 'metric_name': 'column.max', 'metric_value_kwargs': None}, 'num_batches': 1}, 'column_min_values_range_estimator': {'metric_configuration': {'domain_kwargs': {'column': 'SafetyStockLevel'}, 'metric_name': 'column.min', 'metric_value_kwargs': None}, 'num_batches': 1}}})"
   ]
  },
  {
   "cell_type": "code",
   "execution_count": 17,
   "id": "4688c06a",
   "metadata": {},
   "outputs": [
    {
     "data": {
      "application/vnd.jupyter.widget-view+json": {
       "model_id": "cac5c15c5eb747eba40355cbe209dd89",
       "version_major": 2,
       "version_minor": 0
      },
      "text/plain": [
       "Calculating Metrics:   0%|          | 0/5 [00:00<?, ?it/s]"
      ]
     },
     "metadata": {},
     "output_type": "display_data"
    },
    {
     "data": {
      "text/plain": [
       "{\n",
       "  \"success\": true,\n",
       "  \"meta\": {},\n",
       "  \"result\": {\n",
       "    \"observed_value\": {\n",
       "      \"quantiles\": [\n",
       "        0.25,\n",
       "        0.5,\n",
       "        0.75\n",
       "      ],\n",
       "      \"values\": [\n",
       "        100,\n",
       "        500,\n",
       "        1000\n",
       "      ]\n",
       "    },\n",
       "    \"details\": {\n",
       "      \"success_details\": [\n",
       "        true,\n",
       "        true,\n",
       "        true\n",
       "      ]\n",
       "    }\n",
       "  },\n",
       "  \"exception_info\": {\n",
       "    \"raised_exception\": false,\n",
       "    \"exception_traceback\": null,\n",
       "    \"exception_message\": null\n",
       "  }\n",
       "}"
      ]
     },
     "execution_count": 17,
     "metadata": {},
     "output_type": "execute_result"
    }
   ],
   "source": [
    "\n",
    "validator.expect_column_quantile_values_to_be_between(column='SafetyStockLevel', allow_relative_error=False, quantile_ranges={'quantiles': [0.25, 0.5, 0.75], 'value_ranges': [[100, 100], [500, 500], [1000, 1000]]}, meta={'profiler_details': {'metric_configuration': {'domain_kwargs': {'column': 'SafetyStockLevel'}, 'metric_name': 'column.quantile_values', 'metric_value_kwargs': {'allow_relative_error': False, 'quantiles': [0.25, 0.5, 0.75]}}, 'num_batches': 1}})"
   ]
  },
  {
   "cell_type": "code",
   "execution_count": 18,
   "id": "9ae9b40e",
   "metadata": {},
   "outputs": [
    {
     "data": {
      "application/vnd.jupyter.widget-view+json": {
       "model_id": "72e3b76dbf684a50babaa07f45e632d7",
       "version_major": 2,
       "version_minor": 0
      },
      "text/plain": [
       "Calculating Metrics:   0%|          | 0/9 [00:00<?, ?it/s]"
      ]
     },
     "metadata": {},
     "output_type": "display_data"
    },
    {
     "data": {
      "text/plain": [
       "{\n",
       "  \"success\": true,\n",
       "  \"meta\": {},\n",
       "  \"result\": {\n",
       "    \"observed_value\": 500.0\n",
       "  },\n",
       "  \"exception_info\": {\n",
       "    \"raised_exception\": false,\n",
       "    \"exception_traceback\": null,\n",
       "    \"exception_message\": null\n",
       "  }\n",
       "}"
      ]
     },
     "execution_count": 18,
     "metadata": {},
     "output_type": "execute_result"
    }
   ],
   "source": [
    "\n",
    "validator.expect_column_median_to_be_between(column='SafetyStockLevel', max_value=500.0, min_value=500.0, strict_max=False, strict_min=False, meta={'profiler_details': {'metric_configuration': {'domain_kwargs': {'column': 'SafetyStockLevel'}, 'metric_name': 'column.median', 'metric_value_kwargs': None}, 'num_batches': 1}})"
   ]
  },
  {
   "cell_type": "code",
   "execution_count": 19,
   "id": "fc1492b8",
   "metadata": {},
   "outputs": [
    {
     "data": {
      "application/vnd.jupyter.widget-view+json": {
       "model_id": "a34299cc4c0d44cb8d81a1c952e6a7f9",
       "version_major": 2,
       "version_minor": 0
      },
      "text/plain": [
       "Calculating Metrics:   0%|          | 0/6 [00:00<?, ?it/s]"
      ]
     },
     "metadata": {},
     "output_type": "display_data"
    },
    {
     "data": {
      "text/plain": [
       "{\n",
       "  \"success\": false,\n",
       "  \"meta\": {},\n",
       "  \"result\": {\n",
       "    \"observed_value\": 533.172619047619\n",
       "  },\n",
       "  \"exception_info\": {\n",
       "    \"raised_exception\": false,\n",
       "    \"exception_traceback\": null,\n",
       "    \"exception_message\": null\n",
       "  }\n",
       "}"
      ]
     },
     "execution_count": 19,
     "metadata": {},
     "output_type": "execute_result"
    }
   ],
   "source": [
    "\n",
    "validator.expect_column_mean_to_be_between(column='SafetyStockLevel', max_value=533.1706349206349, min_value=533.1706349206349, strict_max=False, strict_min=False, meta={'profiler_details': {'metric_configuration': {'domain_kwargs': {'column': 'SafetyStockLevel'}, 'metric_name': 'column.mean', 'metric_value_kwargs': None}, 'num_batches': 1}})"
   ]
  },
  {
   "cell_type": "code",
   "execution_count": 20,
   "id": "39adc584",
   "metadata": {},
   "outputs": [
    {
     "data": {
      "application/vnd.jupyter.widget-view+json": {
       "model_id": "ae0eee50fb1d472cac6ac75f3efc51ff",
       "version_major": 2,
       "version_minor": 0
      },
      "text/plain": [
       "Calculating Metrics:   0%|          | 0/11 [00:00<?, ?it/s]"
      ]
     },
     "metadata": {},
     "output_type": "display_data"
    },
    {
     "data": {
      "text/plain": [
       "{\n",
       "  \"success\": false,\n",
       "  \"meta\": {},\n",
       "  \"result\": {\n",
       "    \"observed_value\": 374.2859603081353\n",
       "  },\n",
       "  \"exception_info\": {\n",
       "    \"raised_exception\": false,\n",
       "    \"exception_traceback\": null,\n",
       "    \"exception_message\": null\n",
       "  }\n",
       "}"
      ]
     },
     "execution_count": 20,
     "metadata": {},
     "output_type": "execute_result"
    }
   ],
   "source": [
    "\n",
    "validator.expect_column_stdev_to_be_between(column='SafetyStockLevel', max_value=374.28877903315896, min_value=374.28877903315896, strict_max=False, strict_min=False, meta={'profiler_details': {'metric_configuration': {'domain_kwargs': {'column': 'SafetyStockLevel'}, 'metric_name': 'column.standard_deviation', 'metric_value_kwargs': None}, 'num_batches': 1}})"
   ]
  },
  {
   "cell_type": "code",
   "execution_count": 21,
   "id": "267d7732",
   "metadata": {},
   "outputs": [
    {
     "data": {
      "application/vnd.jupyter.widget-view+json": {
       "model_id": "af4c288b5b4c49099e1381f67cf6abd3",
       "version_major": 2,
       "version_minor": 0
      },
      "text/plain": [
       "Calculating Metrics:   0%|          | 0/11 [00:00<?, ?it/s]"
      ]
     },
     "metadata": {},
     "output_type": "display_data"
    },
    {
     "data": {
      "text/plain": [
       "{\n",
       "  \"success\": false,\n",
       "  \"meta\": {},\n",
       "  \"result\": {\n",
       "    \"element_count\": 504,\n",
       "    \"unexpected_count\": 1,\n",
       "    \"unexpected_percent\": 0.1984126984126984,\n",
       "    \"partial_unexpected_list\": [\n",
       "      3\n",
       "    ],\n",
       "    \"missing_count\": 0,\n",
       "    \"missing_percent\": 0.0,\n",
       "    \"unexpected_percent_total\": 0.1984126984126984,\n",
       "    \"unexpected_percent_nonmissing\": 0.1984126984126984\n",
       "  },\n",
       "  \"exception_info\": {\n",
       "    \"raised_exception\": false,\n",
       "    \"exception_traceback\": null,\n",
       "    \"exception_message\": null\n",
       "  }\n",
       "}"
      ]
     },
     "execution_count": 21,
     "metadata": {},
     "output_type": "execute_result"
    }
   ],
   "source": [
    "\n",
    "validator.expect_column_values_to_be_in_set(column='SafetyStockLevel', mostly=1.0, value_set=[800, 2, 100, 4, 1000, 500, 60], meta={'profiler_details': {'metric_configuration': {'domain_kwargs': {'column': 'SafetyStockLevel'}, 'metric_name': 'column.distinct_values', 'metric_value_kwargs': None}, 'num_batches': 1, 'parse_strings_as_datetimes': False}})"
   ]
  },
  {
   "cell_type": "code",
   "execution_count": 22,
   "id": "093838ae",
   "metadata": {},
   "outputs": [
    {
     "data": {
      "application/vnd.jupyter.widget-view+json": {
       "model_id": "e568481c44154177bd1da40f73c6777a",
       "version_major": 2,
       "version_minor": 0
      },
      "text/plain": [
       "Calculating Metrics:   0%|          | 0/6 [00:00<?, ?it/s]"
      ]
     },
     "metadata": {},
     "output_type": "display_data"
    },
    {
     "data": {
      "text/plain": [
       "{\n",
       "  \"success\": true,\n",
       "  \"meta\": {},\n",
       "  \"result\": {\n",
       "    \"observed_value\": 7\n",
       "  },\n",
       "  \"exception_info\": {\n",
       "    \"raised_exception\": false,\n",
       "    \"exception_traceback\": null,\n",
       "    \"exception_message\": null\n",
       "  }\n",
       "}"
      ]
     },
     "execution_count": 22,
     "metadata": {},
     "output_type": "execute_result"
    }
   ],
   "source": [
    "\n",
    "validator.expect_column_unique_value_count_to_be_between(column='SafetyStockLevel', max_value=7, min_value=7, strict_max=False, strict_min=False, meta={'profiler_details': {'metric_configuration': {'domain_kwargs': {'column': 'SafetyStockLevel'}, 'metric_name': 'column.distinct_values.count', 'metric_value_kwargs': None}, 'num_batches': 1}})"
   ]
  },
  {
   "cell_type": "code",
   "execution_count": 23,
   "id": "5c4b15c1",
   "metadata": {},
   "outputs": [
    {
     "data": {
      "application/vnd.jupyter.widget-view+json": {
       "model_id": "8095606fbe9d44ccae3d2fab76c47829",
       "version_major": 2,
       "version_minor": 0
      },
      "text/plain": [
       "Calculating Metrics:   0%|          | 0/10 [00:00<?, ?it/s]"
      ]
     },
     "metadata": {},
     "output_type": "display_data"
    },
    {
     "data": {
      "text/plain": [
       "{\n",
       "  \"success\": true,\n",
       "  \"meta\": {},\n",
       "  \"result\": {\n",
       "    \"observed_value\": 0.013888888888888888\n",
       "  },\n",
       "  \"exception_info\": {\n",
       "    \"raised_exception\": false,\n",
       "    \"exception_traceback\": null,\n",
       "    \"exception_message\": null\n",
       "  }\n",
       "}"
      ]
     },
     "execution_count": 23,
     "metadata": {},
     "output_type": "execute_result"
    }
   ],
   "source": [
    "\n",
    "validator.expect_column_proportion_of_unique_values_to_be_between(column='SafetyStockLevel', max_value=0.013888888888888888, min_value=0.013888888888888888, strict_max=False, strict_min=False, meta={'profiler_details': {'metric_configuration': {'domain_kwargs': {'column': 'SafetyStockLevel'}, 'metric_name': 'column.unique_proportion', 'metric_value_kwargs': None}, 'num_batches': 1}})"
   ]
  },
  {
   "cell_type": "markdown",
   "id": "bf0bea22",
   "metadata": {},
   "source": [
    "#### `Color`"
   ]
  },
  {
   "cell_type": "code",
   "execution_count": 24,
   "id": "ec5930fc",
   "metadata": {},
   "outputs": [
    {
     "data": {
      "application/vnd.jupyter.widget-view+json": {
       "model_id": "994440d05f5c4d3c9ef7a2d065c571ae",
       "version_major": 2,
       "version_minor": 0
      },
      "text/plain": [
       "Calculating Metrics:   0%|          | 0/11 [00:00<?, ?it/s]"
      ]
     },
     "metadata": {},
     "output_type": "display_data"
    },
    {
     "data": {
      "text/plain": [
       "{\n",
       "  \"success\": false,\n",
       "  \"meta\": {},\n",
       "  \"result\": {\n",
       "    \"element_count\": 504,\n",
       "    \"unexpected_count\": 1,\n",
       "    \"unexpected_percent\": 0.390625,\n",
       "    \"partial_unexpected_list\": [\n",
       "      \"Bla\"\n",
       "    ],\n",
       "    \"missing_count\": 248,\n",
       "    \"missing_percent\": 49.2063492063492,\n",
       "    \"unexpected_percent_total\": 0.1984126984126984,\n",
       "    \"unexpected_percent_nonmissing\": 0.390625\n",
       "  },\n",
       "  \"exception_info\": {\n",
       "    \"raised_exception\": false,\n",
       "    \"exception_traceback\": null,\n",
       "    \"exception_message\": null\n",
       "  }\n",
       "}"
      ]
     },
     "execution_count": 24,
     "metadata": {},
     "output_type": "execute_result"
    }
   ],
   "source": [
    "\n",
    "validator.expect_column_values_to_be_in_set(column='Color', mostly=1.0, value_set=['Silver', 'Yellow', 'Grey', 'Multi', 'Red', 'White', 'Blackkr', 'Blue', 'Silver/Black', 'Black'], meta={'profiler_details': {'metric_configuration': {'domain_kwargs': {'column': 'Color'}, 'metric_name': 'column.distinct_values', 'metric_value_kwargs': None}, 'num_batches': 1, 'parse_strings_as_datetimes': False}})"
   ]
  },
  {
   "cell_type": "code",
   "execution_count": 25,
   "id": "8e02f178",
   "metadata": {},
   "outputs": [
    {
     "data": {
      "application/vnd.jupyter.widget-view+json": {
       "model_id": "4122dd44f1f84da8a2a8d069579b6d17",
       "version_major": 2,
       "version_minor": 0
      },
      "text/plain": [
       "Calculating Metrics:   0%|          | 0/6 [00:00<?, ?it/s]"
      ]
     },
     "metadata": {},
     "output_type": "display_data"
    },
    {
     "data": {
      "text/plain": [
       "{\n",
       "  \"success\": true,\n",
       "  \"meta\": {},\n",
       "  \"result\": {\n",
       "    \"observed_value\": 10\n",
       "  },\n",
       "  \"exception_info\": {\n",
       "    \"raised_exception\": false,\n",
       "    \"exception_traceback\": null,\n",
       "    \"exception_message\": null\n",
       "  }\n",
       "}"
      ]
     },
     "execution_count": 25,
     "metadata": {},
     "output_type": "execute_result"
    }
   ],
   "source": [
    "\n",
    "validator.expect_column_unique_value_count_to_be_between(column='Color', max_value=10, min_value=10, strict_max=False, strict_min=False, meta={'profiler_details': {'metric_configuration': {'domain_kwargs': {'column': 'Color'}, 'metric_name': 'column.distinct_values.count', 'metric_value_kwargs': None}, 'num_batches': 1}})"
   ]
  },
  {
   "cell_type": "code",
   "execution_count": 26,
   "id": "24192f15",
   "metadata": {},
   "outputs": [
    {
     "data": {
      "application/vnd.jupyter.widget-view+json": {
       "model_id": "6b50b5c2c8a147eba10e644833c8572f",
       "version_major": 2,
       "version_minor": 0
      },
      "text/plain": [
       "Calculating Metrics:   0%|          | 0/10 [00:00<?, ?it/s]"
      ]
     },
     "metadata": {},
     "output_type": "display_data"
    },
    {
     "data": {
      "text/plain": [
       "{\n",
       "  \"success\": true,\n",
       "  \"meta\": {},\n",
       "  \"result\": {\n",
       "    \"observed_value\": 0.0390625\n",
       "  },\n",
       "  \"exception_info\": {\n",
       "    \"raised_exception\": false,\n",
       "    \"exception_traceback\": null,\n",
       "    \"exception_message\": null\n",
       "  }\n",
       "}"
      ]
     },
     "execution_count": 26,
     "metadata": {},
     "output_type": "execute_result"
    }
   ],
   "source": [
    "\n",
    "validator.expect_column_proportion_of_unique_values_to_be_between(column='Color', max_value=0.0390625, min_value=0.0390625, strict_max=False, strict_min=False, meta={'profiler_details': {'metric_configuration': {'domain_kwargs': {'column': 'Color'}, 'metric_name': 'column.unique_proportion', 'metric_value_kwargs': None}, 'num_batches': 1}})"
   ]
  },
  {
   "cell_type": "markdown",
   "id": "0e4e9884",
   "metadata": {},
   "source": [
    "## Review & Save Your Expectations\n",
    "\n",
    "Let's save the expectation suite as a JSON file in the `great_expectations/expectations` directory of your project.\n",
    "\n",
    "Let's now rebuild your Data Docs, which helps you communicate about your data with both machines and humans."
   ]
  },
  {
   "cell_type": "code",
   "execution_count": 27,
   "id": "0b87165e",
   "metadata": {},
   "outputs": [
    {
     "name": "stdout",
     "output_type": "stream",
     "text": [
      "2023-04-26T21:50:15+0300 - INFO - \t25 expectation(s) included in expectation_suite.\n",
      "{\n",
      "  \"expectation_suite_name\": \"lena_s\",\n",
      "  \"ge_cloud_id\": null,\n",
      "  \"meta\": {\n",
      "    \"citations\": [\n",
      "      {\n",
      "        \"citation_date\": \"2023-04-26T18:26:05.272219Z\",\n",
      "        \"comment\": \"Created by effective Rule-Based Profiler of OnboardingDataAssistant with the configuration included.\\n\"\n",
      "      },\n",
      "      {\n",
      "        \"batch_request\": {\n",
      "          \"data_asset_name\": \"Product\",\n",
      "          \"data_connector_name\": \"default_inferred_data_connector_name\",\n",
      "          \"datasource_name\": \"hello_datasource\",\n",
      "          \"limit\": 1000\n",
      "        },\n",
      "        \"citation_date\": \"2023-04-26T18:49:10.608015Z\",\n",
      "        \"comment\": \"Created suite added via CLI\"\n",
      "      }\n",
      "    ],\n",
      "    \"great_expectations_version\": \"0.16.8\"\n",
      "  },\n",
      "  \"data_asset_type\": null,\n",
      "  \"expectations\": [\n",
      "    {\n",
      "      \"expectation_type\": \"expect_table_row_count_to_be_between\",\n",
      "      \"meta\": {},\n",
      "      \"kwargs\": {\n",
      "        \"max_value\": 504,\n",
      "        \"min_value\": 504\n",
      "      }\n",
      "    },\n",
      "    {\n",
      "      \"expectation_type\": \"expect_table_columns_to_match_set\",\n",
      "      \"meta\": {},\n",
      "      \"kwargs\": {\n",
      "        \"column_set\": [\n",
      "          \"Color\",\n",
      "          \"ModifiedDate\",\n",
      "          \"ProductID\"\n",
      "        ]\n",
      "      }\n",
      "    },\n",
      "    {\n",
      "      \"expectation_type\": \"expect_column_values_to_be_unique\",\n",
      "      \"meta\": {\n",
      "        \"profiler_details\": {\n",
      "          \"metric_configuration\": {\n",
      "            \"domain_kwargs\": {\n",
      "              \"column\": \"ProductID\"\n",
      "            },\n",
      "            \"metric_name\": \"column_values.unique.unexpected_count\",\n",
      "            \"metric_value_kwargs\": null\n",
      "          },\n",
      "          \"num_batches\": 1\n",
      "        }\n",
      "      },\n",
      "      \"kwargs\": {\n",
      "        \"column\": \"ProductID\"\n",
      "      }\n",
      "    },\n",
      "    {\n",
      "      \"expectation_type\": \"expect_column_values_to_not_be_null\",\n",
      "      \"meta\": {\n",
      "        \"profiler_details\": {\n",
      "          \"metric_configuration\": {\n",
      "            \"domain_kwargs\": {\n",
      "              \"column\": \"ProductID\"\n",
      "            },\n",
      "            \"metric_name\": \"column_values.nonnull.unexpected_count\",\n",
      "            \"metric_value_kwargs\": null\n",
      "          },\n",
      "          \"num_batches\": 1\n",
      "        }\n",
      "      },\n",
      "      \"kwargs\": {\n",
      "        \"column\": \"ProductID\"\n",
      "      }\n",
      "    },\n",
      "    {\n",
      "      \"expectation_type\": \"expect_column_values_to_not_be_null\",\n",
      "      \"meta\": {\n",
      "        \"profiler_details\": {\n",
      "          \"metric_configuration\": {\n",
      "            \"domain_kwargs\": {\n",
      "              \"column\": \"SafetyStockLevel\"\n",
      "            },\n",
      "            \"metric_name\": \"column_values.nonnull.unexpected_count\",\n",
      "            \"metric_value_kwargs\": null\n",
      "          },\n",
      "          \"num_batches\": 1\n",
      "        }\n",
      "      },\n",
      "      \"kwargs\": {\n",
      "        \"column\": \"SafetyStockLevel\"\n",
      "      }\n",
      "    },\n",
      "    {\n",
      "      \"expectation_type\": \"expect_column_min_to_be_between\",\n",
      "      \"meta\": {\n",
      "        \"profiler_details\": {\n",
      "          \"metric_configuration\": {\n",
      "            \"domain_kwargs\": {\n",
      "              \"column\": \"ProductID\"\n",
      "            },\n",
      "            \"metric_name\": \"column.min\",\n",
      "            \"metric_value_kwargs\": null\n",
      "          },\n",
      "          \"num_batches\": 1\n",
      "        }\n",
      "      },\n",
      "      \"kwargs\": {\n",
      "        \"column\": \"ProductID\",\n",
      "        \"max_value\": 1,\n",
      "        \"min_value\": 1,\n",
      "        \"strict_max\": false,\n",
      "        \"strict_min\": false\n",
      "      }\n",
      "    },\n",
      "    {\n",
      "      \"expectation_type\": \"expect_column_max_to_be_between\",\n",
      "      \"meta\": {\n",
      "        \"profiler_details\": {\n",
      "          \"metric_configuration\": {\n",
      "            \"domain_kwargs\": {\n",
      "              \"column\": \"ProductID\"\n",
      "            },\n",
      "            \"metric_name\": \"column.max\",\n",
      "            \"metric_value_kwargs\": null\n",
      "          },\n",
      "          \"num_batches\": 1\n",
      "        }\n",
      "      },\n",
      "      \"kwargs\": {\n",
      "        \"column\": \"ProductID\",\n",
      "        \"max_value\": 999,\n",
      "        \"min_value\": 999,\n",
      "        \"strict_max\": false,\n",
      "        \"strict_min\": false\n",
      "      }\n",
      "    },\n",
      "    {\n",
      "      \"expectation_type\": \"expect_column_values_to_be_between\",\n",
      "      \"meta\": {\n",
      "        \"profiler_details\": {\n",
      "          \"column_max_values_range_estimator\": {\n",
      "            \"metric_configuration\": {\n",
      "              \"domain_kwargs\": {\n",
      "                \"column\": \"ProductID\"\n",
      "              },\n",
      "              \"metric_name\": \"column.max\",\n",
      "              \"metric_value_kwargs\": null\n",
      "            },\n",
      "            \"num_batches\": 1\n",
      "          },\n",
      "          \"column_min_values_range_estimator\": {\n",
      "            \"metric_configuration\": {\n",
      "              \"domain_kwargs\": {\n",
      "                \"column\": \"ProductID\"\n",
      "              },\n",
      "              \"metric_name\": \"column.min\",\n",
      "              \"metric_value_kwargs\": null\n",
      "            },\n",
      "            \"num_batches\": 1\n",
      "          }\n",
      "        }\n",
      "      },\n",
      "      \"kwargs\": {\n",
      "        \"column\": \"ProductID\",\n",
      "        \"max_value\": 999,\n",
      "        \"min_value\": 1,\n",
      "        \"mostly\": 1.0,\n",
      "        \"strict_max\": false,\n",
      "        \"strict_min\": false\n",
      "      }\n",
      "    },\n",
      "    {\n",
      "      \"expectation_type\": \"expect_column_quantile_values_to_be_between\",\n",
      "      \"meta\": {\n",
      "        \"profiler_details\": {\n",
      "          \"metric_configuration\": {\n",
      "            \"domain_kwargs\": {\n",
      "              \"column\": \"ProductID\"\n",
      "            },\n",
      "            \"metric_name\": \"column.quantile_values\",\n",
      "            \"metric_value_kwargs\": {\n",
      "              \"allow_relative_error\": false,\n",
      "              \"quantiles\": [\n",
      "                0.25,\n",
      "                0.5,\n",
      "                0.75\n",
      "              ]\n",
      "            }\n",
      "          },\n",
      "          \"num_batches\": 1\n",
      "        }\n",
      "      },\n",
      "      \"kwargs\": {\n",
      "        \"column\": \"ProductID\",\n",
      "        \"allow_relative_error\": false,\n",
      "        \"quantile_ranges\": {\n",
      "          \"quantiles\": [\n",
      "            0.25,\n",
      "            0.5,\n",
      "            0.75\n",
      "          ],\n",
      "          \"value_ranges\": [\n",
      "            [\n",
      "              447,\n",
      "              447\n",
      "            ],\n",
      "            [\n",
      "              747,\n",
      "              747\n",
      "            ],\n",
      "            [\n",
      "              873,\n",
      "              873\n",
      "            ]\n",
      "          ]\n",
      "        }\n",
      "      }\n",
      "    },\n",
      "    {\n",
      "      \"expectation_type\": \"expect_column_median_to_be_between\",\n",
      "      \"meta\": {\n",
      "        \"profiler_details\": {\n",
      "          \"metric_configuration\": {\n",
      "            \"domain_kwargs\": {\n",
      "              \"column\": \"ProductID\"\n",
      "            },\n",
      "            \"metric_name\": \"column.median\",\n",
      "            \"metric_value_kwargs\": null\n",
      "          },\n",
      "          \"num_batches\": 1\n",
      "        }\n",
      "      },\n",
      "      \"kwargs\": {\n",
      "        \"column\": \"ProductID\",\n",
      "        \"max_value\": 747.5,\n",
      "        \"min_value\": 747.5,\n",
      "        \"strict_max\": false,\n",
      "        \"strict_min\": false\n",
      "      }\n",
      "    },\n",
      "    {\n",
      "      \"expectation_type\": \"expect_column_mean_to_be_between\",\n",
      "      \"meta\": {\n",
      "        \"profiler_details\": {\n",
      "          \"metric_configuration\": {\n",
      "            \"domain_kwargs\": {\n",
      "              \"column\": \"ProductID\"\n",
      "            },\n",
      "            \"metric_name\": \"column.mean\",\n",
      "            \"metric_value_kwargs\": null\n",
      "          },\n",
      "          \"num_batches\": 1\n",
      "        }\n",
      "      },\n",
      "      \"kwargs\": {\n",
      "        \"column\": \"ProductID\",\n",
      "        \"max_value\": 673.0396825396825,\n",
      "        \"min_value\": 673.0396825396825,\n",
      "        \"strict_max\": false,\n",
      "        \"strict_min\": false\n",
      "      }\n",
      "    },\n",
      "    {\n",
      "      \"expectation_type\": \"expect_column_stdev_to_be_between\",\n",
      "      \"meta\": {\n",
      "        \"profiler_details\": {\n",
      "          \"metric_configuration\": {\n",
      "            \"domain_kwargs\": {\n",
      "              \"column\": \"ProductID\"\n",
      "            },\n",
      "            \"metric_name\": \"column.standard_deviation\",\n",
      "            \"metric_value_kwargs\": null\n",
      "          },\n",
      "          \"num_batches\": 1\n",
      "        }\n",
      "      },\n",
      "      \"kwargs\": {\n",
      "        \"column\": \"ProductID\",\n",
      "        \"max_value\": 229.37314180957807,\n",
      "        \"min_value\": 229.37314180957807,\n",
      "        \"strict_max\": false,\n",
      "        \"strict_min\": false\n",
      "      }\n",
      "    },\n",
      "    {\n",
      "      \"expectation_type\": \"expect_column_min_to_be_between\",\n",
      "      \"meta\": {\n",
      "        \"profiler_details\": {\n",
      "          \"metric_configuration\": {\n",
      "            \"domain_kwargs\": {\n",
      "              \"column\": \"SafetyStockLevel\"\n",
      "            },\n",
      "            \"metric_name\": \"column.min\",\n",
      "            \"metric_value_kwargs\": null\n",
      "          },\n",
      "          \"num_batches\": 1\n",
      "        }\n",
      "      },\n",
      "      \"kwargs\": {\n",
      "        \"column\": \"SafetyStockLevel\",\n",
      "        \"max_value\": 2,\n",
      "        \"min_value\": 2,\n",
      "        \"strict_max\": false,\n",
      "        \"strict_min\": false\n",
      "      }\n",
      "    },\n",
      "    {\n",
      "      \"expectation_type\": \"expect_column_max_to_be_between\",\n",
      "      \"meta\": {\n",
      "        \"profiler_details\": {\n",
      "          \"metric_configuration\": {\n",
      "            \"domain_kwargs\": {\n",
      "              \"column\": \"SafetyStockLevel\"\n",
      "            },\n",
      "            \"metric_name\": \"column.max\",\n",
      "            \"metric_value_kwargs\": null\n",
      "          },\n",
      "          \"num_batches\": 1\n",
      "        }\n",
      "      },\n",
      "      \"kwargs\": {\n",
      "        \"column\": \"SafetyStockLevel\",\n",
      "        \"max_value\": 1000,\n",
      "        \"min_value\": 1000,\n",
      "        \"strict_max\": false,\n",
      "        \"strict_min\": false\n",
      "      }\n",
      "    },\n",
      "    {\n",
      "      \"expectation_type\": \"expect_column_values_to_be_between\",\n",
      "      \"meta\": {\n",
      "        \"profiler_details\": {\n",
      "          \"column_max_values_range_estimator\": {\n",
      "            \"metric_configuration\": {\n",
      "              \"domain_kwargs\": {\n",
      "                \"column\": \"SafetyStockLevel\"\n",
      "              },\n",
      "              \"metric_name\": \"column.max\",\n",
      "              \"metric_value_kwargs\": null\n",
      "            },\n",
      "            \"num_batches\": 1\n",
      "          },\n",
      "          \"column_min_values_range_estimator\": {\n",
      "            \"metric_configuration\": {\n",
      "              \"domain_kwargs\": {\n",
      "                \"column\": \"SafetyStockLevel\"\n",
      "              },\n",
      "              \"metric_name\": \"column.min\",\n",
      "              \"metric_value_kwargs\": null\n",
      "            },\n",
      "            \"num_batches\": 1\n",
      "          }\n",
      "        }\n",
      "      },\n",
      "      \"kwargs\": {\n",
      "        \"column\": \"SafetyStockLevel\",\n",
      "        \"max_value\": 1000,\n",
      "        \"min_value\": 2,\n",
      "        \"mostly\": 1.0,\n",
      "        \"strict_max\": false,\n",
      "        \"strict_min\": false\n",
      "      }\n",
      "    },\n",
      "    {\n",
      "      \"expectation_type\": \"expect_column_quantile_values_to_be_between\",\n",
      "      \"meta\": {\n",
      "        \"profiler_details\": {\n",
      "          \"metric_configuration\": {\n",
      "            \"domain_kwargs\": {\n",
      "              \"column\": \"SafetyStockLevel\"\n",
      "            },\n",
      "            \"metric_name\": \"column.quantile_values\",\n",
      "            \"metric_value_kwargs\": {\n",
      "              \"allow_relative_error\": false,\n",
      "              \"quantiles\": [\n",
      "                0.25,\n",
      "                0.5,\n",
      "                0.75\n",
      "              ]\n",
      "            }\n",
      "          },\n",
      "          \"num_batches\": 1\n",
      "        }\n",
      "      },\n",
      "      \"kwargs\": {\n",
      "        \"column\": \"SafetyStockLevel\",\n",
      "        \"allow_relative_error\": false,\n",
      "        \"quantile_ranges\": {\n",
      "          \"quantiles\": [\n",
      "            0.25,\n",
      "            0.5,\n",
      "            0.75\n",
      "          ],\n",
      "          \"value_ranges\": [\n",
      "            [\n",
      "              100,\n",
      "              100\n",
      "            ],\n",
      "            [\n",
      "              500,\n",
      "              500\n",
      "            ],\n",
      "            [\n",
      "              1000,\n",
      "              1000\n",
      "            ]\n",
      "          ]\n",
      "        }\n",
      "      }\n",
      "    },\n",
      "    {\n",
      "      \"expectation_type\": \"expect_column_median_to_be_between\",\n",
      "      \"meta\": {\n",
      "        \"profiler_details\": {\n",
      "          \"metric_configuration\": {\n",
      "            \"domain_kwargs\": {\n",
      "              \"column\": \"SafetyStockLevel\"\n",
      "            },\n",
      "            \"metric_name\": \"column.median\",\n",
      "            \"metric_value_kwargs\": null\n",
      "          },\n",
      "          \"num_batches\": 1\n",
      "        }\n",
      "      },\n",
      "      \"kwargs\": {\n",
      "        \"column\": \"SafetyStockLevel\",\n",
      "        \"max_value\": 500.0,\n",
      "        \"min_value\": 500.0,\n",
      "        \"strict_max\": false,\n",
      "        \"strict_min\": false\n",
      "      }\n",
      "    },\n",
      "    {\n",
      "      \"expectation_type\": \"expect_column_mean_to_be_between\",\n",
      "      \"meta\": {\n",
      "        \"profiler_details\": {\n",
      "          \"metric_configuration\": {\n",
      "            \"domain_kwargs\": {\n",
      "              \"column\": \"SafetyStockLevel\"\n",
      "            },\n",
      "            \"metric_name\": \"column.mean\",\n",
      "            \"metric_value_kwargs\": null\n",
      "          },\n",
      "          \"num_batches\": 1\n",
      "        }\n",
      "      },\n",
      "      \"kwargs\": {\n",
      "        \"column\": \"SafetyStockLevel\",\n",
      "        \"max_value\": 533.1706349206349,\n",
      "        \"min_value\": 533.1706349206349,\n",
      "        \"strict_max\": false,\n",
      "        \"strict_min\": false\n",
      "      }\n",
      "    },\n",
      "    {\n",
      "      \"expectation_type\": \"expect_column_stdev_to_be_between\",\n",
      "      \"meta\": {\n",
      "        \"profiler_details\": {\n",
      "          \"metric_configuration\": {\n",
      "            \"domain_kwargs\": {\n",
      "              \"column\": \"SafetyStockLevel\"\n",
      "            },\n",
      "            \"metric_name\": \"column.standard_deviation\",\n",
      "            \"metric_value_kwargs\": null\n",
      "          },\n",
      "          \"num_batches\": 1\n",
      "        }\n",
      "      },\n",
      "      \"kwargs\": {\n",
      "        \"column\": \"SafetyStockLevel\",\n",
      "        \"max_value\": 374.28877903315896,\n",
      "        \"min_value\": 374.28877903315896,\n",
      "        \"strict_max\": false,\n",
      "        \"strict_min\": false\n",
      "      }\n",
      "    },\n",
      "    {\n",
      "      \"expectation_type\": \"expect_column_values_to_be_in_set\",\n",
      "      \"meta\": {\n",
      "        \"profiler_details\": {\n",
      "          \"metric_configuration\": {\n",
      "            \"domain_kwargs\": {\n",
      "              \"column\": \"Color\"\n",
      "            },\n",
      "            \"metric_name\": \"column.distinct_values\",\n",
      "            \"metric_value_kwargs\": null\n",
      "          },\n",
      "          \"num_batches\": 1,\n",
      "          \"parse_strings_as_datetimes\": false\n",
      "        }\n",
      "      },\n",
      "      \"kwargs\": {\n",
      "        \"column\": \"Color\",\n",
      "        \"mostly\": 1.0,\n",
      "        \"value_set\": [\n",
      "          \"Silver\",\n",
      "          \"Yellow\",\n",
      "          \"Grey\",\n",
      "          \"Multi\",\n",
      "          \"Red\",\n",
      "          \"White\",\n",
      "          \"Blackkr\",\n",
      "          \"Blue\",\n",
      "          \"Silver/Black\",\n",
      "          \"Black\"\n",
      "        ]\n",
      "      }\n",
      "    },\n",
      "    {\n",
      "      \"expectation_type\": \"expect_column_unique_value_count_to_be_between\",\n",
      "      \"meta\": {\n",
      "        \"profiler_details\": {\n",
      "          \"metric_configuration\": {\n",
      "            \"domain_kwargs\": {\n",
      "              \"column\": \"Color\"\n",
      "            },\n",
      "            \"metric_name\": \"column.distinct_values.count\",\n",
      "            \"metric_value_kwargs\": null\n",
      "          },\n",
      "          \"num_batches\": 1\n",
      "        }\n",
      "      },\n",
      "      \"kwargs\": {\n",
      "        \"column\": \"Color\",\n",
      "        \"max_value\": 10,\n",
      "        \"min_value\": 10,\n",
      "        \"strict_max\": false,\n",
      "        \"strict_min\": false\n",
      "      }\n",
      "    },\n",
      "    {\n",
      "      \"expectation_type\": \"expect_column_proportion_of_unique_values_to_be_between\",\n",
      "      \"meta\": {\n",
      "        \"profiler_details\": {\n",
      "          \"metric_configuration\": {\n",
      "            \"domain_kwargs\": {\n",
      "              \"column\": \"Color\"\n",
      "            },\n",
      "            \"metric_name\": \"column.unique_proportion\",\n",
      "            \"metric_value_kwargs\": null\n",
      "          },\n",
      "          \"num_batches\": 1\n",
      "        }\n",
      "      },\n",
      "      \"kwargs\": {\n",
      "        \"column\": \"Color\",\n",
      "        \"max_value\": 0.0390625,\n",
      "        \"min_value\": 0.0390625,\n",
      "        \"strict_max\": false,\n",
      "        \"strict_min\": false\n",
      "      }\n",
      "    },\n",
      "    {\n",
      "      \"expectation_type\": \"expect_column_values_to_be_in_set\",\n",
      "      \"meta\": {\n",
      "        \"profiler_details\": {\n",
      "          \"metric_configuration\": {\n",
      "            \"domain_kwargs\": {\n",
      "              \"column\": \"SafetyStockLevel\"\n",
      "            },\n",
      "            \"metric_name\": \"column.distinct_values\",\n",
      "            \"metric_value_kwargs\": null\n",
      "          },\n",
      "          \"num_batches\": 1,\n",
      "          \"parse_strings_as_datetimes\": false\n",
      "        }\n",
      "      },\n",
      "      \"kwargs\": {\n",
      "        \"column\": \"SafetyStockLevel\",\n",
      "        \"mostly\": 1.0,\n",
      "        \"value_set\": [\n",
      "          800,\n",
      "          2,\n",
      "          100,\n",
      "          4,\n",
      "          1000,\n",
      "          500,\n",
      "          60\n",
      "        ]\n",
      "      }\n",
      "    },\n",
      "    {\n",
      "      \"expectation_type\": \"expect_column_unique_value_count_to_be_between\",\n",
      "      \"meta\": {\n",
      "        \"profiler_details\": {\n",
      "          \"metric_configuration\": {\n",
      "            \"domain_kwargs\": {\n",
      "              \"column\": \"SafetyStockLevel\"\n",
      "            },\n",
      "            \"metric_name\": \"column.distinct_values.count\",\n",
      "            \"metric_value_kwargs\": null\n",
      "          },\n",
      "          \"num_batches\": 1\n",
      "        }\n",
      "      },\n",
      "      \"kwargs\": {\n",
      "        \"column\": \"SafetyStockLevel\",\n",
      "        \"max_value\": 7,\n",
      "        \"min_value\": 7,\n",
      "        \"strict_max\": false,\n",
      "        \"strict_min\": false\n",
      "      }\n",
      "    },\n",
      "    {\n",
      "      \"expectation_type\": \"expect_column_proportion_of_unique_values_to_be_between\",\n",
      "      \"meta\": {\n",
      "        \"profiler_details\": {\n",
      "          \"metric_configuration\": {\n",
      "            \"domain_kwargs\": {\n",
      "              \"column\": \"SafetyStockLevel\"\n",
      "            },\n",
      "            \"metric_name\": \"column.unique_proportion\",\n",
      "            \"metric_value_kwargs\": null\n",
      "          },\n",
      "          \"num_batches\": 1\n",
      "        }\n",
      "      },\n",
      "      \"kwargs\": {\n",
      "        \"column\": \"SafetyStockLevel\",\n",
      "        \"max_value\": 0.013888888888888888,\n",
      "        \"min_value\": 0.013888888888888888,\n",
      "        \"strict_max\": false,\n",
      "        \"strict_min\": false\n",
      "      }\n",
      "    }\n",
      "  ]\n",
      "}\n",
      "2023-04-26T21:50:15+0300 - INFO - \t25 expectation(s) included in expectation_suite.\n"
     ]
    },
    {
     "name": "stdout",
     "output_type": "stream",
     "text": [
      "2023-04-26T21:50:15+0300 - INFO - \t25 expectation(s) included in expectation_suite.\n"
     ]
    },
    {
     "data": {
      "application/vnd.jupyter.widget-view+json": {
       "model_id": "2ef0e0f8e6724c7d90435d2b081951c2",
       "version_major": 2,
       "version_minor": 0
      },
      "text/plain": [
       "Calculating Metrics:   0%|          | 0/82 [00:00<?, ?it/s]"
      ]
     },
     "metadata": {},
     "output_type": "display_data"
    }
   ],
   "source": [
    "print(validator.get_expectation_suite(discard_failed_expectations=False))\n",
    "validator.save_expectation_suite(discard_failed_expectations=False)\n",
    "\n",
    "checkpoint_config = {\n",
    "    \"class_name\": \"SimpleCheckpoint\",\n",
    "    \"validations\": [\n",
    "        {\n",
    "            \"batch_request\": batch_request,\n",
    "            \"expectation_suite_name\": expectation_suite_name\n",
    "        }\n",
    "    ]\n",
    "}\n",
    "checkpoint = SimpleCheckpoint(\n",
    "    f\"{validator.active_batch_definition.data_asset_name}_{expectation_suite_name}\",\n",
    "    context,\n",
    "    **checkpoint_config\n",
    ")\n",
    "checkpoint_result = checkpoint.run()\n",
    "\n",
    "context.build_data_docs()\n",
    "\n",
    "validation_result_identifier = checkpoint_result.list_validation_result_identifiers()[0]\n",
    "context.open_data_docs(resource_identifier=validation_result_identifier)"
   ]
  },
  {
   "cell_type": "code",
   "execution_count": null,
   "id": "b6e22c6f",
   "metadata": {},
   "outputs": [],
   "source": []
  },
  {
   "cell_type": "code",
   "execution_count": null,
   "id": "4999b5f3",
   "metadata": {},
   "outputs": [],
   "source": []
  }
 ],
 "metadata": {
  "kernelspec": {
   "display_name": "Python 3 (ipykernel)",
   "language": "python",
   "name": "python3"
  },
  "language_info": {
   "codemirror_mode": {
    "name": "ipython",
    "version": 3
   },
   "file_extension": ".py",
   "mimetype": "text/x-python",
   "name": "python",
   "nbconvert_exporter": "python",
   "pygments_lexer": "ipython3",
   "version": "3.10.10"
  }
 },
 "nbformat": 4,
 "nbformat_minor": 5
}
