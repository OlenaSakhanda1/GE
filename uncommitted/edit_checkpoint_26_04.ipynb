{
 "cells": [
  {
   "cell_type": "markdown",
   "id": "16ba40f0",
   "metadata": {},
   "source": [
    "# Create Your Checkpoint\n",
    "Use this notebook to configure a new Checkpoint and add it to your project:\n",
    "\n",
    "**Checkpoint Name**: `26_04`"
   ]
  },
  {
   "cell_type": "code",
   "execution_count": 6,
   "id": "dde1cbaa",
   "metadata": {},
   "outputs": [],
   "source": [
    "from ruamel.yaml import YAML\n",
    "import great_expectations as gx\n",
    "from pprint import pprint\n",
    "\n",
    "yaml = YAML()\n",
    "context = gx.get_context()"
   ]
  },
  {
   "cell_type": "markdown",
   "id": "b8230bb2",
   "metadata": {},
   "source": [
    "# Create a Checkpoint Configuration\n",
    "\n",
    "**If you are new to Great Expectations or the Checkpoint feature**, you should start with SimpleCheckpoint because it includes default configurations like a default list of post validation actions.\n",
    "\n",
    "In the cell below we have created a sample Checkpoint configuration using **your configuration** and **SimpleCheckpoint** to run a single validation of a single Expectation Suite against a single Batch of data.\n",
    "\n",
    "To keep it simple, we are just choosing the first available instance of each of the following items you have configured in your Data Context:\n",
    "* Datasource\n",
    "* DataConnector\n",
    "* DataAsset\n",
    "* Partition\n",
    "* Expectation Suite\n",
    "\n",
    "Of course this is purely an example, you may edit this to your heart's content.\n",
    "\n",
    "**My configuration is not so simple - are there more advanced options?**\n",
    "\n",
    "Glad you asked! Checkpoints are very versatile. For example, you can validate many Batches in a single Checkpoint, validate Batches against different Expectation Suites or against many Expectation Suites, control the specific post-validation actions based on Expectation Suite / Batch / results of validation among other features. Check out our documentation on Checkpoints for more details and for instructions on how to implement other more advanced features including using the **Checkpoint** class:\n",
    "- https://docs.greatexpectations.io/docs/reference/checkpoints_and_actions\n",
    "- https://docs.greatexpectations.io/docs/guides/validation/checkpoints/how_to_create_a_new_checkpoint\n",
    "- https://docs.greatexpectations.io/docs/guides/validation/checkpoints/how_to_configure_a_new_checkpoint_using_test_yaml_config"
   ]
  },
  {
   "cell_type": "code",
   "execution_count": 8,
   "id": "83278976",
   "metadata": {},
   "outputs": [
    {
     "name": "stdout",
     "output_type": "stream",
     "text": [
      "\n",
      "name: 26_04\n",
      "config_version: 1.0\n",
      "class_name: SimpleCheckpoint\n",
      "run_name_template: \"%Y%m%d-%H%M%S-my-run-name-template\"\n",
      "validations:\n",
      "  - batch_request:\n",
      "      datasource_name: hello_datasource\n",
      "      data_connector_name: default_inferred_data_connector_name\n",
      "      data_asset_name: AWBuildVersion\n",
      "      data_connector_query:\n",
      "        index: -1\n",
      "    expectation_suite_name: lena_s\n",
      "\n"
     ]
    }
   ],
   "source": [
    "my_checkpoint_name = \"26_04\" # This was populated from your CLI command.\n",
    "\n",
    "yaml_config = f\"\"\"\n",
    "name: {my_checkpoint_name}\n",
    "config_version: 1.0\n",
    "class_name: SimpleCheckpoint\n",
    "run_name_template: \"%Y%m%d-%H%M%S-my-run-name-template\"\n",
    "validations:\n",
    "  - batch_request:\n",
    "      datasource_name: hello_datasource\n",
    "      data_connector_name: default_inferred_data_connector_name\n",
    "      data_asset_name: AWBuildVersion\n",
    "      data_connector_query:\n",
    "        index: -1\n",
    "    expectation_suite_name: lena_s\n",
    "\"\"\"\n",
    "print(yaml_config)"
   ]
  },
  {
   "cell_type": "markdown",
   "id": "c4a4a3c0",
   "metadata": {},
   "source": [
    "# Customize Your Configuration\n",
    "The following cells show examples for listing your current configuration. You can replace values in the sample configuration with these values to customize your Checkpoint."
   ]
  },
  {
   "cell_type": "code",
   "execution_count": 9,
   "id": "fd718915",
   "metadata": {},
   "outputs": [
    {
     "name": "stdout",
     "output_type": "stream",
     "text": [
      "{'hello_datasource': {'default_inferred_data_connector_name': ['AWBuildVersion',\n",
      "                                                               'DatabaseLog',\n",
      "                                                               'ErrorLog',\n",
      "                                                               'Department',\n",
      "                                                               'Employee',\n",
      "                                                               'EmployeeDepartmentHistory',\n",
      "                                                               'EmployeePayHistory',\n",
      "                                                               'JobCandidate',\n",
      "                                                               'Shift',\n",
      "                                                               'vEmployee',\n",
      "                                                               'vEmployeeDepartment',\n",
      "                                                               'vEmployeeDepartmentHistory',\n",
      "                                                               'vJobCandidate',\n",
      "                                                               'vJobCandidateEducation',\n",
      "                                                               'vJobCandidateEmployment',\n",
      "                                                               'Address',\n",
      "                                                               'AddressType',\n",
      "                                                               'BusinessEntity',\n",
      "                                                               'BusinessEntityAddress',\n",
      "                                                               'BusinessEntityContact',\n",
      "                                                               'ContactType',\n",
      "                                                               'CountryRegion',\n",
      "                                                               'EmailAddress',\n",
      "                                                               'Password',\n",
      "                                                               'Person',\n",
      "                                                               'PersonPhone',\n",
      "                                                               'PhoneNumberType',\n",
      "                                                               'StateProvince',\n",
      "                                                               'vAdditionalContactInfo',\n",
      "                                                               'vStateProvinceCountryRegion',\n",
      "                                                               'BillOfMaterials',\n",
      "                                                               'Culture',\n",
      "                                                               'Document',\n",
      "                                                               'Illustration',\n",
      "                                                               'Location',\n",
      "                                                               'Product',\n",
      "                                                               'ProductCategory',\n",
      "                                                               'ProductCostHistory',\n",
      "                                                               'ProductDescription',\n",
      "                                                               'ProductDocument',\n",
      "                                                               'ProductInventory',\n",
      "                                                               'ProductListPriceHistory',\n",
      "                                                               'ProductModel',\n",
      "                                                               'ProductModelIllustration',\n",
      "                                                               'ProductModelProductDescriptionCulture',\n",
      "                                                               'ProductPhoto',\n",
      "                                                               'ProductProductPhoto',\n",
      "                                                               'ProductReview',\n",
      "                                                               'ProductSubcategory',\n",
      "                                                               'ScrapReason',\n",
      "                                                               'TransactionHistory',\n",
      "                                                               'TransactionHistoryArchive',\n",
      "                                                               'UnitMeasure',\n",
      "                                                               'WorkOrder',\n",
      "                                                               'WorkOrderRouting',\n",
      "                                                               'vProductAndDescription',\n",
      "                                                               'vProductModelCatalogDescription',\n",
      "                                                               'vProductModelInstructions',\n",
      "                                                               'ProductVendor',\n",
      "                                                               'PurchaseOrderDetail',\n",
      "                                                               'PurchaseOrderHeader',\n",
      "                                                               'ShipMethod',\n",
      "                                                               'Vendor',\n",
      "                                                               'vVendorWithAddresses',\n",
      "                                                               'vVendorWithContacts',\n",
      "                                                               'CountryRegionCurrency',\n",
      "                                                               'CreditCard',\n",
      "                                                               'Currency',\n",
      "                                                               'CurrencyRate',\n",
      "                                                               'Customer',\n",
      "                                                               'PersonCreditCard',\n",
      "                                                               'SalesOrderDetail',\n",
      "                                                               'SalesOrderHeader',\n",
      "                                                               'SalesOrderHeaderSalesReason',\n",
      "                                                               'SalesPerson',\n",
      "                                                               'SalesPersonQuotaHistory',\n",
      "                                                               'SalesReason',\n",
      "                                                               'SalesTaxRate',\n",
      "                                                               'SalesTerritory',\n",
      "                                                               'SalesTerritoryHistory',\n",
      "                                                               'ShoppingCartItem',\n",
      "                                                               'SpecialOffer',\n",
      "                                                               'SpecialOfferProduct',\n",
      "                                                               'Store',\n",
      "                                                               'vIndividualCustomer',\n",
      "                                                               'vPersonDemographics',\n",
      "                                                               'vSalesPerson',\n",
      "                                                               'vSalesPersonSalesByFiscalYears',\n",
      "                                                               'vStoreWithAddresses',\n",
      "                                                               'vStoreWithContacts',\n",
      "                                                               'vStoreWithDemographics'],\n",
      "                      'default_runtime_data_connector_name': []}}\n"
     ]
    }
   ],
   "source": [
    "# Run this cell to print out the names of your Datasources, Data Connectors and Data Assets\n",
    "pprint(context.get_available_data_asset_names())"
   ]
  },
  {
   "cell_type": "code",
   "execution_count": 4,
   "id": "8314b75e",
   "metadata": {},
   "outputs": [
    {
     "data": {
      "text/plain": [
       "['lena', 'lena_s', 'lena_test', 'test_auto']"
      ]
     },
     "execution_count": 4,
     "metadata": {},
     "output_type": "execute_result"
    }
   ],
   "source": [
    "context.list_expectation_suite_names()"
   ]
  },
  {
   "cell_type": "markdown",
   "id": "a9ba9ceb",
   "metadata": {},
   "source": [
    "# Test Your Checkpoint Configuration\n",
    "Here we will test your Checkpoint configuration to make sure it is valid.\n",
    "\n",
    "This `test_yaml_config()` function is meant to enable fast dev loops. If your configuration is correct, this cell will show a message that you successfully instantiated a Checkpoint. You can continually edit your Checkpoint config yaml and re-run the cell to check until the new config is valid.\n",
    "\n",
    "If you instead wish to use python instead of yaml to configure your Checkpoint, you can use `context.add_checkpoint()` and specify all the required parameters."
   ]
  },
  {
   "cell_type": "code",
   "execution_count": 5,
   "id": "87d8354c",
   "metadata": {},
   "outputs": [
    {
     "name": "stderr",
     "output_type": "stream",
     "text": [
      "Encountered errors during loading config.  See ValidationError for more details.\n"
     ]
    },
    {
     "name": "stdout",
     "output_type": "stream",
     "text": [
      "Attempting to instantiate class from config...\n",
      "\tInstantiating as a SimpleCheckpoint, since class_name is SimpleCheckpoint\n"
     ]
    },
    {
     "ename": "ValidationError",
     "evalue": "{'name': ['Not a valid string.']}",
     "output_type": "error",
     "traceback": [
      "\u001b[1;31m---------------------------------------------------------------------------\u001b[0m",
      "\u001b[1;31mValidationError\u001b[0m                           Traceback (most recent call last)",
      "Cell \u001b[1;32mIn[5], line 1\u001b[0m\n\u001b[1;32m----> 1\u001b[0m my_checkpoint \u001b[38;5;241m=\u001b[39m \u001b[43mcontext\u001b[49m\u001b[38;5;241;43m.\u001b[39;49m\u001b[43mtest_yaml_config\u001b[49m\u001b[43m(\u001b[49m\u001b[43myaml_config\u001b[49m\u001b[38;5;241;43m=\u001b[39;49m\u001b[43myaml_config\u001b[49m\u001b[43m)\u001b[49m\n",
      "File \u001b[1;32m~\\AppData\\Local\\Programs\\Python\\Python310\\lib\\site-packages\\great_expectations\\data_context\\data_context\\abstract_data_context.py:4997\u001b[0m, in \u001b[0;36mAbstractDataContext.test_yaml_config\u001b[1;34m(self, yaml_config, name, class_name, runtime_environment, pretty_print, return_mode, shorten_tracebacks)\u001b[0m\n\u001b[0;32m   4958\u001b[0m \u001b[38;5;250m\u001b[39m\u001b[38;5;124;03m\"\"\"Convenience method for testing yaml configs.\u001b[39;00m\n\u001b[0;32m   4959\u001b[0m \n\u001b[0;32m   4960\u001b[0m \u001b[38;5;124;03mtest_yaml_config is a convenience method for configuring the moving\u001b[39;00m\n\u001b[1;32m   (...)\u001b[0m\n\u001b[0;32m   4992\u001b[0m \n\u001b[0;32m   4993\u001b[0m \u001b[38;5;124;03m\"\"\"\u001b[39;00m\n\u001b[0;32m   4994\u001b[0m yaml_config_validator \u001b[38;5;241m=\u001b[39m _YamlConfigValidator(\n\u001b[0;32m   4995\u001b[0m     data_context\u001b[38;5;241m=\u001b[39m\u001b[38;5;28mself\u001b[39m,\n\u001b[0;32m   4996\u001b[0m )\n\u001b[1;32m-> 4997\u001b[0m \u001b[38;5;28;01mreturn\u001b[39;00m \u001b[43myaml_config_validator\u001b[49m\u001b[38;5;241;43m.\u001b[39;49m\u001b[43mtest_yaml_config\u001b[49m\u001b[43m(\u001b[49m\n\u001b[0;32m   4998\u001b[0m \u001b[43m    \u001b[49m\u001b[43myaml_config\u001b[49m\u001b[38;5;241;43m=\u001b[39;49m\u001b[43myaml_config\u001b[49m\u001b[43m,\u001b[49m\n\u001b[0;32m   4999\u001b[0m \u001b[43m    \u001b[49m\u001b[43mname\u001b[49m\u001b[38;5;241;43m=\u001b[39;49m\u001b[43mname\u001b[49m\u001b[43m,\u001b[49m\n\u001b[0;32m   5000\u001b[0m \u001b[43m    \u001b[49m\u001b[43mclass_name\u001b[49m\u001b[38;5;241;43m=\u001b[39;49m\u001b[43mclass_name\u001b[49m\u001b[43m,\u001b[49m\n\u001b[0;32m   5001\u001b[0m \u001b[43m    \u001b[49m\u001b[43mruntime_environment\u001b[49m\u001b[38;5;241;43m=\u001b[39;49m\u001b[43mruntime_environment\u001b[49m\u001b[43m,\u001b[49m\n\u001b[0;32m   5002\u001b[0m \u001b[43m    \u001b[49m\u001b[43mpretty_print\u001b[49m\u001b[38;5;241;43m=\u001b[39;49m\u001b[43mpretty_print\u001b[49m\u001b[43m,\u001b[49m\n\u001b[0;32m   5003\u001b[0m \u001b[43m    \u001b[49m\u001b[43mreturn_mode\u001b[49m\u001b[38;5;241;43m=\u001b[39;49m\u001b[43mreturn_mode\u001b[49m\u001b[43m,\u001b[49m\n\u001b[0;32m   5004\u001b[0m \u001b[43m    \u001b[49m\u001b[43mshorten_tracebacks\u001b[49m\u001b[38;5;241;43m=\u001b[39;49m\u001b[43mshorten_tracebacks\u001b[49m\u001b[43m,\u001b[49m\n\u001b[0;32m   5005\u001b[0m \u001b[43m\u001b[49m\u001b[43m)\u001b[49m\n",
      "File \u001b[1;32m~\\AppData\\Local\\Programs\\Python\\Python310\\lib\\site-packages\\great_expectations\\data_context\\config_validator\\yaml_config_validator.py:300\u001b[0m, in \u001b[0;36m_YamlConfigValidator.test_yaml_config\u001b[1;34m(self, yaml_config, name, class_name, runtime_environment, pretty_print, return_mode, shorten_tracebacks)\u001b[0m\n\u001b[0;32m    298\u001b[0m     traceback\u001b[38;5;241m.\u001b[39mprint_exc(limit\u001b[38;5;241m=\u001b[39m\u001b[38;5;241m1\u001b[39m)\n\u001b[0;32m    299\u001b[0m \u001b[38;5;28;01melse\u001b[39;00m:\n\u001b[1;32m--> 300\u001b[0m     \u001b[38;5;28;01mraise\u001b[39;00m e\n",
      "File \u001b[1;32m~\\AppData\\Local\\Programs\\Python\\Python310\\lib\\site-packages\\great_expectations\\data_context\\config_validator\\yaml_config_validator.py:225\u001b[0m, in \u001b[0;36m_YamlConfigValidator.test_yaml_config\u001b[1;34m(self, yaml_config, name, class_name, runtime_environment, pretty_print, return_mode, shorten_tracebacks)\u001b[0m\n\u001b[0;32m    213\u001b[0m     (\n\u001b[0;32m    214\u001b[0m         instantiated_class,\n\u001b[0;32m    215\u001b[0m         usage_stats_event_payload,\n\u001b[1;32m   (...)\u001b[0m\n\u001b[0;32m    219\u001b[0m         config\u001b[38;5;241m=\u001b[39mconfig,  \u001b[38;5;66;03m# Uses original config as substitutions are done downstream\u001b[39;00m\n\u001b[0;32m    220\u001b[0m     )\n\u001b[0;32m    221\u001b[0m \u001b[38;5;28;01melif\u001b[39;00m class_name \u001b[38;5;129;01min\u001b[39;00m \u001b[38;5;28mself\u001b[39m\u001b[38;5;241m.\u001b[39mTEST_YAML_CONFIG_SUPPORTED_CHECKPOINT_TYPES:\n\u001b[0;32m    222\u001b[0m     (\n\u001b[0;32m    223\u001b[0m         instantiated_class,\n\u001b[0;32m    224\u001b[0m         usage_stats_event_payload,\n\u001b[1;32m--> 225\u001b[0m     ) \u001b[38;5;241m=\u001b[39m \u001b[38;5;28;43mself\u001b[39;49m\u001b[38;5;241;43m.\u001b[39;49m\u001b[43m_test_instantiation_of_checkpoint_from_yaml_config\u001b[49m\u001b[43m(\u001b[49m\n\u001b[0;32m    226\u001b[0m \u001b[43m        \u001b[49m\u001b[43mname\u001b[49m\u001b[38;5;241;43m=\u001b[39;49m\u001b[43mname\u001b[49m\u001b[43m,\u001b[49m\u001b[43m \u001b[49m\u001b[43mclass_name\u001b[49m\u001b[38;5;241;43m=\u001b[39;49m\u001b[43mclass_name\u001b[49m\u001b[43m,\u001b[49m\u001b[43m \u001b[49m\u001b[43mconfig\u001b[49m\u001b[38;5;241;43m=\u001b[39;49m\u001b[43mconfig_with_substitutions\u001b[49m\n\u001b[0;32m    227\u001b[0m \u001b[43m    \u001b[49m\u001b[43m)\u001b[49m\n\u001b[0;32m    228\u001b[0m \u001b[38;5;28;01melif\u001b[39;00m class_name \u001b[38;5;129;01min\u001b[39;00m \u001b[38;5;28mself\u001b[39m\u001b[38;5;241m.\u001b[39mTEST_YAML_CONFIG_SUPPORTED_DATA_CONNECTOR_TYPES:\n\u001b[0;32m    229\u001b[0m     (\n\u001b[0;32m    230\u001b[0m         instantiated_class,\n\u001b[0;32m    231\u001b[0m         usage_stats_event_payload,\n\u001b[1;32m   (...)\u001b[0m\n\u001b[0;32m    236\u001b[0m         runtime_environment\u001b[38;5;241m=\u001b[39mruntime_environment,\n\u001b[0;32m    237\u001b[0m     )\n",
      "File \u001b[1;32m~\\AppData\\Local\\Programs\\Python\\Python310\\lib\\site-packages\\great_expectations\\data_context\\config_validator\\yaml_config_validator.py:449\u001b[0m, in \u001b[0;36m_YamlConfigValidator._test_instantiation_of_checkpoint_from_yaml_config\u001b[1;34m(self, name, class_name, config)\u001b[0m\n\u001b[0;32m    445\u001b[0m checkpoint_name: \u001b[38;5;28mstr\u001b[39m \u001b[38;5;241m=\u001b[39m name \u001b[38;5;129;01mor\u001b[39;00m config\u001b[38;5;241m.\u001b[39mget(\u001b[38;5;124m\"\u001b[39m\u001b[38;5;124mname\u001b[39m\u001b[38;5;124m\"\u001b[39m) \u001b[38;5;129;01mor\u001b[39;00m \u001b[38;5;124m\"\u001b[39m\u001b[38;5;124mmy_temp_checkpoint\u001b[39m\u001b[38;5;124m\"\u001b[39m\n\u001b[0;32m    447\u001b[0m checkpoint_config: Union[CheckpointConfig, \u001b[38;5;28mdict\u001b[39m]\n\u001b[1;32m--> 449\u001b[0m checkpoint_config \u001b[38;5;241m=\u001b[39m \u001b[43mCheckpointConfig\u001b[49m\u001b[38;5;241;43m.\u001b[39;49m\u001b[43mfrom_commented_map\u001b[49m\u001b[43m(\u001b[49m\u001b[43mcommented_map\u001b[49m\u001b[38;5;241;43m=\u001b[39;49m\u001b[43mconfig\u001b[49m\u001b[43m)\u001b[49m\n\u001b[0;32m    450\u001b[0m checkpoint_config_dict: \u001b[38;5;28mdict\u001b[39m[\u001b[38;5;28mstr\u001b[39m, JSONValues] \u001b[38;5;241m=\u001b[39m checkpoint_config\u001b[38;5;241m.\u001b[39mto_json_dict()\n\u001b[0;32m    451\u001b[0m checkpoint_config_dict\u001b[38;5;241m.\u001b[39mupdate({\u001b[38;5;124m\"\u001b[39m\u001b[38;5;124mname\u001b[39m\u001b[38;5;124m\"\u001b[39m: checkpoint_name})\n",
      "File \u001b[1;32m~\\AppData\\Local\\Programs\\Python\\Python310\\lib\\site-packages\\great_expectations\\data_context\\types\\base.py:133\u001b[0m, in \u001b[0;36mBaseYamlConfig.from_commented_map\u001b[1;34m(cls, commented_map)\u001b[0m\n\u001b[0;32m    131\u001b[0m \u001b[38;5;28;01mtry\u001b[39;00m:\n\u001b[0;32m    132\u001b[0m     schema_instance: Schema \u001b[38;5;241m=\u001b[39m \u001b[38;5;28mcls\u001b[39m\u001b[38;5;241m.\u001b[39m_get_schema_instance()\n\u001b[1;32m--> 133\u001b[0m     config: Union[\u001b[38;5;28mdict\u001b[39m, BYC] \u001b[38;5;241m=\u001b[39m \u001b[43mschema_instance\u001b[49m\u001b[38;5;241;43m.\u001b[39;49m\u001b[43mload\u001b[49m\u001b[43m(\u001b[49m\u001b[43mcommented_map\u001b[49m\u001b[43m)\u001b[49m\n\u001b[0;32m    134\u001b[0m     \u001b[38;5;28;01mif\u001b[39;00m \u001b[38;5;28misinstance\u001b[39m(config, \u001b[38;5;28mdict\u001b[39m):\n\u001b[0;32m    135\u001b[0m         \u001b[38;5;28;01mreturn\u001b[39;00m \u001b[38;5;28mcls\u001b[39m\u001b[38;5;241m.\u001b[39mget_config_class()(commented_map\u001b[38;5;241m=\u001b[39mcommented_map, \u001b[38;5;241m*\u001b[39m\u001b[38;5;241m*\u001b[39mconfig)\n",
      "File \u001b[1;32m~\\AppData\\Local\\Programs\\Python\\Python310\\lib\\site-packages\\marshmallow\\schema.py:722\u001b[0m, in \u001b[0;36mSchema.load\u001b[1;34m(self, data, many, partial, unknown)\u001b[0m\n\u001b[0;32m    691\u001b[0m \u001b[38;5;28;01mdef\u001b[39;00m \u001b[38;5;21mload\u001b[39m(\n\u001b[0;32m    692\u001b[0m     \u001b[38;5;28mself\u001b[39m,\n\u001b[0;32m    693\u001b[0m     data: (\n\u001b[1;32m   (...)\u001b[0m\n\u001b[0;32m    700\u001b[0m     unknown: \u001b[38;5;28mstr\u001b[39m \u001b[38;5;241m|\u001b[39m \u001b[38;5;28;01mNone\u001b[39;00m \u001b[38;5;241m=\u001b[39m \u001b[38;5;28;01mNone\u001b[39;00m,\n\u001b[0;32m    701\u001b[0m ):\n\u001b[0;32m    702\u001b[0m \u001b[38;5;250m    \u001b[39m\u001b[38;5;124;03m\"\"\"Deserialize a data structure to an object defined by this Schema's fields.\u001b[39;00m\n\u001b[0;32m    703\u001b[0m \n\u001b[0;32m    704\u001b[0m \u001b[38;5;124;03m    :param data: The data to deserialize.\u001b[39;00m\n\u001b[1;32m   (...)\u001b[0m\n\u001b[0;32m    720\u001b[0m \u001b[38;5;124;03m        if invalid data are passed.\u001b[39;00m\n\u001b[0;32m    721\u001b[0m \u001b[38;5;124;03m    \"\"\"\u001b[39;00m\n\u001b[1;32m--> 722\u001b[0m     \u001b[38;5;28;01mreturn\u001b[39;00m \u001b[38;5;28;43mself\u001b[39;49m\u001b[38;5;241;43m.\u001b[39;49m\u001b[43m_do_load\u001b[49m\u001b[43m(\u001b[49m\n\u001b[0;32m    723\u001b[0m \u001b[43m        \u001b[49m\u001b[43mdata\u001b[49m\u001b[43m,\u001b[49m\u001b[43m \u001b[49m\u001b[43mmany\u001b[49m\u001b[38;5;241;43m=\u001b[39;49m\u001b[43mmany\u001b[49m\u001b[43m,\u001b[49m\u001b[43m \u001b[49m\u001b[43mpartial\u001b[49m\u001b[38;5;241;43m=\u001b[39;49m\u001b[43mpartial\u001b[49m\u001b[43m,\u001b[49m\u001b[43m \u001b[49m\u001b[43munknown\u001b[49m\u001b[38;5;241;43m=\u001b[39;49m\u001b[43munknown\u001b[49m\u001b[43m,\u001b[49m\u001b[43m \u001b[49m\u001b[43mpostprocess\u001b[49m\u001b[38;5;241;43m=\u001b[39;49m\u001b[38;5;28;43;01mTrue\u001b[39;49;00m\n\u001b[0;32m    724\u001b[0m \u001b[43m    \u001b[49m\u001b[43m)\u001b[49m\n",
      "File \u001b[1;32m~\\AppData\\Local\\Programs\\Python\\Python310\\lib\\site-packages\\marshmallow\\schema.py:909\u001b[0m, in \u001b[0;36mSchema._do_load\u001b[1;34m(self, data, many, partial, unknown, postprocess)\u001b[0m\n\u001b[0;32m    907\u001b[0m     exc \u001b[38;5;241m=\u001b[39m ValidationError(errors, data\u001b[38;5;241m=\u001b[39mdata, valid_data\u001b[38;5;241m=\u001b[39mresult)\n\u001b[0;32m    908\u001b[0m     \u001b[38;5;28mself\u001b[39m\u001b[38;5;241m.\u001b[39mhandle_error(exc, data, many\u001b[38;5;241m=\u001b[39mmany, partial\u001b[38;5;241m=\u001b[39mpartial)\n\u001b[1;32m--> 909\u001b[0m     \u001b[38;5;28;01mraise\u001b[39;00m exc\n\u001b[0;32m    911\u001b[0m \u001b[38;5;28;01mreturn\u001b[39;00m result\n",
      "\u001b[1;31mValidationError\u001b[0m: {'name': ['Not a valid string.']}"
     ]
    }
   ],
   "source": [
    "my_checkpoint = context.test_yaml_config(yaml_config=yaml_config)"
   ]
  },
  {
   "cell_type": "markdown",
   "id": "03ec2230",
   "metadata": {},
   "source": [
    "# Review Your Checkpoint\n",
    "\n",
    "You can run the following cell to print out the full yaml configuration. For example, if you used **SimpleCheckpoint**  this will show you the default action list."
   ]
  },
  {
   "cell_type": "code",
   "execution_count": null,
   "id": "ce5b7947",
   "metadata": {},
   "outputs": [],
   "source": [
    "print(my_checkpoint.get_config(mode=\"yaml\"))"
   ]
  },
  {
   "cell_type": "markdown",
   "id": "0ad1a4f0",
   "metadata": {},
   "source": [
    "# Add Your Checkpoint\n",
    "\n",
    "Run the following cell to save this Checkpoint to your Checkpoint Store."
   ]
  },
  {
   "cell_type": "code",
   "execution_count": null,
   "id": "7f2d3882",
   "metadata": {},
   "outputs": [],
   "source": [
    "context.add_checkpoint(**yaml.load(yaml_config))"
   ]
  },
  {
   "cell_type": "markdown",
   "id": "a370fca6",
   "metadata": {},
   "source": [
    "# Run Your Checkpoint & Open Data Docs(Optional)\n",
    "\n",
    "You may wish to run the Checkpoint now and review its output in Data Docs. If so uncomment and run the following cell."
   ]
  },
  {
   "cell_type": "code",
   "execution_count": null,
   "id": "f4188798",
   "metadata": {},
   "outputs": [],
   "source": [
    "# context.run_checkpoint(checkpoint_name=my_checkpoint_name)\n",
    "# context.open_data_docs()"
   ]
  }
 ],
 "metadata": {
  "kernelspec": {
   "display_name": "Python 3 (ipykernel)",
   "language": "python",
   "name": "python3"
  },
  "language_info": {
   "codemirror_mode": {
    "name": "ipython",
    "version": 3
   },
   "file_extension": ".py",
   "mimetype": "text/x-python",
   "name": "python",
   "nbconvert_exporter": "python",
   "pygments_lexer": "ipython3",
   "version": "3.10.10"
  }
 },
 "nbformat": 4,
 "nbformat_minor": 5
}
